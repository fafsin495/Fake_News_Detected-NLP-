{
 "cells": [
  {
   "cell_type": "markdown",
   "metadata": {
    "papermill": {
     "duration": 0.040629,
     "end_time": "2020-11-18T20:15:32.332608",
     "exception": false,
     "start_time": "2020-11-18T20:15:32.291979",
     "status": "completed"
    },
    "tags": []
   },
   "source": [
    "# Fake News Detected\n",
    "\n",
    "1. [Heuristic Data Analysis:](#1)\n",
    "    1. [Visualization](#2)\n",
    "1. [Data Preprocessing:](#3)\n",
    "    1. [Cleaning Special Character](#4)\n",
    "    1. [Tokenization](#5)\n",
    "    1. [Lemmatize](#6)\n",
    "    1. [Deleting Noise Data From Data Set](#7)\n",
    "    1. [TFIDF VECTORİZER](#8)\n",
    "1. [Train-Test Split ](#9)    \n",
    "1. [Multinoimal Naive Bayes ](#10)    \n",
    "1. [Logistic Regression ](#11)    \n",
    "1. [Prediction Test ](#12)    \n",
    "1. [Submit ](#13)    \n",
    "   "
   ]
  },
  {
   "cell_type": "code",
   "execution_count": 1,
   "metadata": {
    "_cell_guid": "b1076dfc-b9ad-4769-8c92-a6c4dae69d19",
    "_uuid": "8f2839f25d086af736a60e9eeb907d3b93b6e0e5",
    "execution": {
     "iopub.execute_input": "2020-11-18T20:15:32.420353Z",
     "iopub.status.busy": "2020-11-18T20:15:32.419396Z",
     "iopub.status.idle": "2020-11-18T20:15:32.424447Z",
     "shell.execute_reply": "2020-11-18T20:15:32.424977Z"
    },
    "papermill": {
     "duration": 0.052959,
     "end_time": "2020-11-18T20:15:32.425199",
     "exception": false,
     "start_time": "2020-11-18T20:15:32.372240",
     "status": "completed"
    },
    "tags": []
   },
   "outputs": [
    {
     "name": "stdout",
     "output_type": "stream",
     "text": [
      "/kaggle/input/fake-news/train.csv\n",
      "/kaggle/input/fake-news/submit.csv\n",
      "/kaggle/input/fake-news/test.csv\n"
     ]
    }
   ],
   "source": [
    "# This Python 3 environment comes with many helpful analytics libraries installed\n",
    "# It is defined by the kaggle/python Docker image: https://github.com/kaggle/docker-python\n",
    "# For example, here's several helpful packages to load\n",
    "\n",
    "import numpy as np # linear algebra\n",
    "import pandas as pd # data processing, CSV file I/O (e.g. pd.read_csv)\n",
    "\n",
    "# Input data files are available in the read-only \"../input/\" directory\n",
    "# For example, running this (by clicking run or pressing Shift+Enter) will list all files under the input directory\n",
    "\n",
    "import os\n",
    "for dirname, _, filenames in os.walk('/kaggle/input'):\n",
    "    for filename in filenames:\n",
    "        print(os.path.join(dirname, filename))\n",
    "\n",
    "# You can write up to 20GB to the current directory (/kaggle/working/) that gets preserved as output when you create a version using \"Save & Run All\" \n",
    "# You can also write temporary files to /kaggle/temp/, but they won't be saved outside of the current session"
   ]
  },
  {
   "cell_type": "code",
   "execution_count": 2,
   "metadata": {
    "_cell_guid": "79c7e3d0-c299-4dcb-8224-4455121ee9b0",
    "_uuid": "d629ff2d2480ee46fbb7e2d37f6b5fab8052498a",
    "execution": {
     "iopub.execute_input": "2020-11-18T20:15:32.514140Z",
     "iopub.status.busy": "2020-11-18T20:15:32.513366Z",
     "iopub.status.idle": "2020-11-18T20:15:34.366030Z",
     "shell.execute_reply": "2020-11-18T20:15:34.365297Z"
    },
    "papermill": {
     "duration": 1.900051,
     "end_time": "2020-11-18T20:15:34.366182",
     "exception": false,
     "start_time": "2020-11-18T20:15:32.466131",
     "status": "completed"
    },
    "tags": []
   },
   "outputs": [
    {
     "data": {
      "text/html": [
       "<div>\n",
       "<style scoped>\n",
       "    .dataframe tbody tr th:only-of-type {\n",
       "        vertical-align: middle;\n",
       "    }\n",
       "\n",
       "    .dataframe tbody tr th {\n",
       "        vertical-align: top;\n",
       "    }\n",
       "\n",
       "    .dataframe thead th {\n",
       "        text-align: right;\n",
       "    }\n",
       "</style>\n",
       "<table border=\"1\" class=\"dataframe\">\n",
       "  <thead>\n",
       "    <tr style=\"text-align: right;\">\n",
       "      <th></th>\n",
       "      <th>id</th>\n",
       "      <th>title</th>\n",
       "      <th>author</th>\n",
       "      <th>text</th>\n",
       "      <th>label</th>\n",
       "    </tr>\n",
       "  </thead>\n",
       "  <tbody>\n",
       "    <tr>\n",
       "      <th>0</th>\n",
       "      <td>0</td>\n",
       "      <td>House Dem Aide: We Didn’t Even See Comey’s Let...</td>\n",
       "      <td>Darrell Lucus</td>\n",
       "      <td>House Dem Aide: We Didn’t Even See Comey’s Let...</td>\n",
       "      <td>1</td>\n",
       "    </tr>\n",
       "    <tr>\n",
       "      <th>1</th>\n",
       "      <td>1</td>\n",
       "      <td>FLYNN: Hillary Clinton, Big Woman on Campus - ...</td>\n",
       "      <td>Daniel J. Flynn</td>\n",
       "      <td>Ever get the feeling your life circles the rou...</td>\n",
       "      <td>0</td>\n",
       "    </tr>\n",
       "    <tr>\n",
       "      <th>2</th>\n",
       "      <td>2</td>\n",
       "      <td>Why the Truth Might Get You Fired</td>\n",
       "      <td>Consortiumnews.com</td>\n",
       "      <td>Why the Truth Might Get You Fired October 29, ...</td>\n",
       "      <td>1</td>\n",
       "    </tr>\n",
       "    <tr>\n",
       "      <th>3</th>\n",
       "      <td>3</td>\n",
       "      <td>15 Civilians Killed In Single US Airstrike Hav...</td>\n",
       "      <td>Jessica Purkiss</td>\n",
       "      <td>Videos 15 Civilians Killed In Single US Airstr...</td>\n",
       "      <td>1</td>\n",
       "    </tr>\n",
       "    <tr>\n",
       "      <th>4</th>\n",
       "      <td>4</td>\n",
       "      <td>Iranian woman jailed for fictional unpublished...</td>\n",
       "      <td>Howard Portnoy</td>\n",
       "      <td>Print \\nAn Iranian woman has been sentenced to...</td>\n",
       "      <td>1</td>\n",
       "    </tr>\n",
       "  </tbody>\n",
       "</table>\n",
       "</div>"
      ],
      "text/plain": [
       "   id                                              title              author  \\\n",
       "0   0  House Dem Aide: We Didn’t Even See Comey’s Let...       Darrell Lucus   \n",
       "1   1  FLYNN: Hillary Clinton, Big Woman on Campus - ...     Daniel J. Flynn   \n",
       "2   2                  Why the Truth Might Get You Fired  Consortiumnews.com   \n",
       "3   3  15 Civilians Killed In Single US Airstrike Hav...     Jessica Purkiss   \n",
       "4   4  Iranian woman jailed for fictional unpublished...      Howard Portnoy   \n",
       "\n",
       "                                                text  label  \n",
       "0  House Dem Aide: We Didn’t Even See Comey’s Let...      1  \n",
       "1  Ever get the feeling your life circles the rou...      0  \n",
       "2  Why the Truth Might Get You Fired October 29, ...      1  \n",
       "3  Videos 15 Civilians Killed In Single US Airstr...      1  \n",
       "4  Print \\nAn Iranian woman has been sentenced to...      1  "
      ]
     },
     "execution_count": 2,
     "metadata": {},
     "output_type": "execute_result"
    }
   ],
   "source": [
    "train = pd.read_csv(\"/kaggle/input/fake-news/train.csv\")\n",
    "test  = pd.read_csv (\"/kaggle/input/fake-news/test.csv\")\n",
    "submit= pd.read_csv(\"/kaggle/input/fake-news/submit.csv\")\n",
    "\n",
    "train.head()"
   ]
  },
  {
   "cell_type": "markdown",
   "metadata": {
    "papermill": {
     "duration": 0.041472,
     "end_time": "2020-11-18T20:15:34.448275",
     "exception": false,
     "start_time": "2020-11-18T20:15:34.406803",
     "status": "completed"
    },
    "tags": []
   },
   "source": [
    "<a id=\"1\"></a> <br>\n",
    "# Heuristic Data Analysis - Keşifsel Veri Analizi\n"
   ]
  },
  {
   "cell_type": "code",
   "execution_count": 3,
   "metadata": {
    "execution": {
     "iopub.execute_input": "2020-11-18T20:15:34.536600Z",
     "iopub.status.busy": "2020-11-18T20:15:34.535616Z",
     "iopub.status.idle": "2020-11-18T20:15:34.539966Z",
     "shell.execute_reply": "2020-11-18T20:15:34.539345Z"
    },
    "papermill": {
     "duration": 0.051098,
     "end_time": "2020-11-18T20:15:34.540090",
     "exception": false,
     "start_time": "2020-11-18T20:15:34.488992",
     "status": "completed"
    },
    "tags": []
   },
   "outputs": [
    {
     "name": "stdout",
     "output_type": "stream",
     "text": [
      "Train Shape : (20800, 5)\n",
      "Test Shape : (5200, 4)\n",
      "Submit Shape : (5200, 2)\n"
     ]
    }
   ],
   "source": [
    "# Veri setlerimizin boyutları ; \n",
    "print(f\"Train Shape : {train.shape}\")\n",
    "print(f\"Test Shape : {test.shape}\")\n",
    "print(f\"Submit Shape : {submit.shape}\")"
   ]
  },
  {
   "cell_type": "code",
   "execution_count": 4,
   "metadata": {
    "execution": {
     "iopub.execute_input": "2020-11-18T20:15:34.637509Z",
     "iopub.status.busy": "2020-11-18T20:15:34.636683Z",
     "iopub.status.idle": "2020-11-18T20:15:34.651010Z",
     "shell.execute_reply": "2020-11-18T20:15:34.650274Z"
    },
    "papermill": {
     "duration": 0.06979,
     "end_time": "2020-11-18T20:15:34.651133",
     "exception": false,
     "start_time": "2020-11-18T20:15:34.581343",
     "status": "completed"
    },
    "tags": []
   },
   "outputs": [
    {
     "name": "stdout",
     "output_type": "stream",
     "text": [
      "<class 'pandas.core.frame.DataFrame'>\n",
      "RangeIndex: 20800 entries, 0 to 20799\n",
      "Data columns (total 5 columns):\n",
      " #   Column  Non-Null Count  Dtype \n",
      "---  ------  --------------  ----- \n",
      " 0   id      20800 non-null  int64 \n",
      " 1   title   20242 non-null  object\n",
      " 2   author  18843 non-null  object\n",
      " 3   text    20761 non-null  object\n",
      " 4   label   20800 non-null  int64 \n",
      "dtypes: int64(2), object(3)\n",
      "memory usage: 812.6+ KB\n"
     ]
    }
   ],
   "source": [
    "train.info()"
   ]
  },
  {
   "cell_type": "code",
   "execution_count": 5,
   "metadata": {
    "execution": {
     "iopub.execute_input": "2020-11-18T20:15:34.750252Z",
     "iopub.status.busy": "2020-11-18T20:15:34.749046Z",
     "iopub.status.idle": "2020-11-18T20:15:34.757142Z",
     "shell.execute_reply": "2020-11-18T20:15:34.756401Z"
    },
    "papermill": {
     "duration": 0.064458,
     "end_time": "2020-11-18T20:15:34.757292",
     "exception": false,
     "start_time": "2020-11-18T20:15:34.692834",
     "status": "completed"
    },
    "tags": []
   },
   "outputs": [
    {
     "data": {
      "text/plain": [
       "id           0\n",
       "title      558\n",
       "author    1957\n",
       "text        39\n",
       "label        0\n",
       "dtype: int64"
      ]
     },
     "execution_count": 5,
     "metadata": {},
     "output_type": "execute_result"
    }
   ],
   "source": [
    "train.isnull().sum()"
   ]
  },
  {
   "cell_type": "code",
   "execution_count": 6,
   "metadata": {
    "execution": {
     "iopub.execute_input": "2020-11-18T20:15:34.852792Z",
     "iopub.status.busy": "2020-11-18T20:15:34.851660Z",
     "iopub.status.idle": "2020-11-18T20:15:34.856441Z",
     "shell.execute_reply": "2020-11-18T20:15:34.855774Z"
    },
    "papermill": {
     "duration": 0.055596,
     "end_time": "2020-11-18T20:15:34.856567",
     "exception": false,
     "start_time": "2020-11-18T20:15:34.800971",
     "status": "completed"
    },
    "tags": []
   },
   "outputs": [
    {
     "data": {
      "text/plain": [
       "object    3\n",
       "int64     2\n",
       "dtype: int64"
      ]
     },
     "execution_count": 6,
     "metadata": {},
     "output_type": "execute_result"
    }
   ],
   "source": [
    "train.dtypes.value_counts()\n"
   ]
  },
  {
   "cell_type": "markdown",
   "metadata": {
    "papermill": {
     "duration": 0.050772,
     "end_time": "2020-11-18T20:15:34.954691",
     "exception": false,
     "start_time": "2020-11-18T20:15:34.903919",
     "status": "completed"
    },
    "tags": []
   },
   "source": [
    "<a id=\"2\"></a> <br>\n",
    "## Visualization - Görselleştirme"
   ]
  },
  {
   "cell_type": "code",
   "execution_count": 7,
   "metadata": {
    "execution": {
     "iopub.execute_input": "2020-11-18T20:15:35.067352Z",
     "iopub.status.busy": "2020-11-18T20:15:35.066548Z",
     "iopub.status.idle": "2020-11-18T20:15:36.142332Z",
     "shell.execute_reply": "2020-11-18T20:15:36.141540Z"
    },
    "papermill": {
     "duration": 1.131514,
     "end_time": "2020-11-18T20:15:36.142478",
     "exception": false,
     "start_time": "2020-11-18T20:15:35.010964",
     "status": "completed"
    },
    "tags": []
   },
   "outputs": [],
   "source": [
    "import seaborn as sns\n",
    "import matplotlib.pyplot as plt\n"
   ]
  },
  {
   "cell_type": "markdown",
   "metadata": {
    "papermill": {
     "duration": 0.043767,
     "end_time": "2020-11-18T20:15:36.229728",
     "exception": false,
     "start_time": "2020-11-18T20:15:36.185961",
     "status": "completed"
    },
    "tags": []
   },
   "source": [
    "### Veri Seti İçerisindeki Haberlerin Dağılımları.\n",
    "### Distribution of News in the Data Set."
   ]
  },
  {
   "cell_type": "code",
   "execution_count": 8,
   "metadata": {
    "execution": {
     "iopub.execute_input": "2020-11-18T20:15:36.328564Z",
     "iopub.status.busy": "2020-11-18T20:15:36.327698Z",
     "iopub.status.idle": "2020-11-18T20:15:36.469378Z",
     "shell.execute_reply": "2020-11-18T20:15:36.468623Z"
    },
    "papermill": {
     "duration": 0.195376,
     "end_time": "2020-11-18T20:15:36.469507",
     "exception": false,
     "start_time": "2020-11-18T20:15:36.274131",
     "status": "completed"
    },
    "tags": []
   },
   "outputs": [
    {
     "data": {
      "image/png": "[encoded data removed]",
      "text/plain": [
       "<Figure size 648x648 with 1 Axes>"
      ]
     },
     "metadata": {},
     "output_type": "display_data"
    }
   ],
   "source": [
    "plt.figure(figsize = (9,9))\n",
    "sorted_counts = train['label'].value_counts()\n",
    "plt.pie(sorted_counts, labels = sorted_counts.index, startangle = 90, counterclock = False, wedgeprops = {'width' : 0.6},\n",
    "       autopct='%1.1f%%', pctdistance = 0.7, textprops = {'color': 'black', 'fontsize' : 18}, shadow = True,\n",
    "        colors = sns.color_palette(\"Paired\")[7:])\n",
    "plt.text(x = -0.35, y = 0, s = 'Total Value: {}'.format(train.shape[0]))\n",
    "plt.title('Distribution of News in the Data Set', fontsize = 16);"
   ]
  },
  {
   "cell_type": "markdown",
   "metadata": {
    "papermill": {
     "duration": 0.04461,
     "end_time": "2020-11-18T20:15:36.559483",
     "exception": false,
     "start_time": "2020-11-18T20:15:36.514873",
     "status": "completed"
    },
    "tags": []
   },
   "source": [
    "<a id=\"3\"></a> <br>\n",
    "# Data Preprocessing - Veri Ön İşleme"
   ]
  },
  {
   "cell_type": "code",
   "execution_count": 9,
   "metadata": {
    "execution": {
     "iopub.execute_input": "2020-11-18T20:15:36.665582Z",
     "iopub.status.busy": "2020-11-18T20:15:36.664594Z",
     "iopub.status.idle": "2020-11-18T20:15:36.692504Z",
     "shell.execute_reply": "2020-11-18T20:15:36.691682Z"
    },
    "papermill": {
     "duration": 0.08808,
     "end_time": "2020-11-18T20:15:36.692642",
     "exception": false,
     "start_time": "2020-11-18T20:15:36.604562",
     "status": "completed"
    },
    "tags": []
   },
   "outputs": [],
   "source": [
    "#We are deleting data with null values.\n",
    "#Boş değer taşıyan verileri silme işlemi gerçekleştiriyoruz.\n",
    "train.dropna(inplace=True)"
   ]
  },
  {
   "cell_type": "code",
   "execution_count": 10,
   "metadata": {
    "execution": {
     "iopub.execute_input": "2020-11-18T20:15:36.790422Z",
     "iopub.status.busy": "2020-11-18T20:15:36.789225Z",
     "iopub.status.idle": "2020-11-18T20:15:36.792838Z",
     "shell.execute_reply": "2020-11-18T20:15:36.792274Z"
    },
    "papermill": {
     "duration": 0.055405,
     "end_time": "2020-11-18T20:15:36.792966",
     "exception": false,
     "start_time": "2020-11-18T20:15:36.737561",
     "status": "completed"
    },
    "tags": []
   },
   "outputs": [],
   "source": [
    "#After the deleted data, we rearrange the data set indexes.\n",
    "# Silinen verilerden sonra veri seti indexlerini tekrar düzenliyoruz.\n",
    "train.reset_index(inplace=True)"
   ]
  },
  {
   "cell_type": "code",
   "execution_count": 11,
   "metadata": {
    "execution": {
     "iopub.execute_input": "2020-11-18T20:15:36.892313Z",
     "iopub.status.busy": "2020-11-18T20:15:36.891479Z",
     "iopub.status.idle": "2020-11-18T20:15:36.899083Z",
     "shell.execute_reply": "2020-11-18T20:15:36.898294Z"
    },
    "papermill": {
     "duration": 0.061222,
     "end_time": "2020-11-18T20:15:36.899241",
     "exception": false,
     "start_time": "2020-11-18T20:15:36.838019",
     "status": "completed"
    },
    "tags": []
   },
   "outputs": [
    {
     "data": {
      "text/plain": [
       "id          0\n",
       "title     122\n",
       "author    503\n",
       "text        7\n",
       "dtype: int64"
      ]
     },
     "execution_count": 11,
     "metadata": {},
     "output_type": "execute_result"
    }
   ],
   "source": [
    "test.isnull().sum()"
   ]
  },
  {
   "cell_type": "code",
   "execution_count": 12,
   "metadata": {
    "execution": {
     "iopub.execute_input": "2020-11-18T20:15:37.001950Z",
     "iopub.status.busy": "2020-11-18T20:15:37.000905Z",
     "iopub.status.idle": "2020-11-18T20:15:37.003999Z",
     "shell.execute_reply": "2020-11-18T20:15:37.004643Z"
    },
    "papermill": {
     "duration": 0.057056,
     "end_time": "2020-11-18T20:15:37.004817",
     "exception": false,
     "start_time": "2020-11-18T20:15:36.947761",
     "status": "completed"
    },
    "tags": []
   },
   "outputs": [],
   "source": [
    "test['text'].fillna('TEST',inplace=True)"
   ]
  },
  {
   "cell_type": "code",
   "execution_count": 13,
   "metadata": {
    "execution": {
     "iopub.execute_input": "2020-11-18T20:15:37.105181Z",
     "iopub.status.busy": "2020-11-18T20:15:37.104219Z",
     "iopub.status.idle": "2020-11-18T20:15:37.108684Z",
     "shell.execute_reply": "2020-11-18T20:15:37.109248Z"
    },
    "papermill": {
     "duration": 0.058664,
     "end_time": "2020-11-18T20:15:37.109421",
     "exception": false,
     "start_time": "2020-11-18T20:15:37.050757",
     "status": "completed"
    },
    "tags": []
   },
   "outputs": [
    {
     "data": {
      "text/plain": [
       "0"
      ]
     },
     "execution_count": 13,
     "metadata": {},
     "output_type": "execute_result"
    }
   ],
   "source": [
    "test.text.isnull().sum()"
   ]
  },
  {
   "cell_type": "code",
   "execution_count": 14,
   "metadata": {
    "execution": {
     "iopub.execute_input": "2020-11-18T20:15:37.209340Z",
     "iopub.status.busy": "2020-11-18T20:15:37.208569Z",
     "iopub.status.idle": "2020-11-18T20:15:38.131058Z",
     "shell.execute_reply": "2020-11-18T20:15:38.130270Z"
    },
    "papermill": {
     "duration": 0.975386,
     "end_time": "2020-11-18T20:15:38.131215",
     "exception": false,
     "start_time": "2020-11-18T20:15:37.155829",
     "status": "completed"
    },
    "tags": []
   },
   "outputs": [],
   "source": [
    "import string \n",
    "import nltk\n",
    "from nltk.corpus import stopwords\n",
    "from nltk.stem import WordNetLemmatizer"
   ]
  },
  {
   "cell_type": "markdown",
   "metadata": {
    "papermill": {
     "duration": 0.047925,
     "end_time": "2020-11-18T20:15:38.226184",
     "exception": false,
     "start_time": "2020-11-18T20:15:38.178259",
     "status": "completed"
    },
    "tags": []
   },
   "source": [
    "<a id=\"4\"></a> <br>\n",
    "\n",
    "## Cleaning Special Character - Özel Karakterlerin Temizlenmesi"
   ]
  },
  {
   "cell_type": "code",
   "execution_count": 15,
   "metadata": {
    "execution": {
     "iopub.execute_input": "2020-11-18T20:15:38.343696Z",
     "iopub.status.busy": "2020-11-18T20:15:38.342473Z",
     "iopub.status.idle": "2020-11-18T20:15:38.347947Z",
     "shell.execute_reply": "2020-11-18T20:15:38.347145Z"
    },
    "papermill": {
     "duration": 0.072082,
     "end_time": "2020-11-18T20:15:38.348074",
     "exception": false,
     "start_time": "2020-11-18T20:15:38.275992",
     "status": "completed"
    },
    "tags": []
   },
   "outputs": [
    {
     "data": {
      "text/html": [
       "<div>\n",
       "<style scoped>\n",
       "    .dataframe tbody tr th:only-of-type {\n",
       "        vertical-align: middle;\n",
       "    }\n",
       "\n",
       "    .dataframe tbody tr th {\n",
       "        vertical-align: top;\n",
       "    }\n",
       "\n",
       "    .dataframe thead th {\n",
       "        text-align: right;\n",
       "    }\n",
       "</style>\n",
       "<table border=\"1\" class=\"dataframe\">\n",
       "  <thead>\n",
       "    <tr style=\"text-align: right;\">\n",
       "      <th></th>\n",
       "      <th>id</th>\n",
       "      <th>title</th>\n",
       "      <th>author</th>\n",
       "      <th>text</th>\n",
       "    </tr>\n",
       "  </thead>\n",
       "  <tbody>\n",
       "    <tr>\n",
       "      <th>0</th>\n",
       "      <td>20800</td>\n",
       "      <td>Specter of Trump Loosens Tongues, if Not Purse...</td>\n",
       "      <td>David Streitfeld</td>\n",
       "      <td>PALO ALTO, Calif.  —   After years of scorning...</td>\n",
       "    </tr>\n",
       "    <tr>\n",
       "      <th>1</th>\n",
       "      <td>20801</td>\n",
       "      <td>Russian warships ready to strike terrorists ne...</td>\n",
       "      <td>NaN</td>\n",
       "      <td>Russian warships ready to strike terrorists ne...</td>\n",
       "    </tr>\n",
       "    <tr>\n",
       "      <th>2</th>\n",
       "      <td>20802</td>\n",
       "      <td>#NoDAPL: Native American Leaders Vow to Stay A...</td>\n",
       "      <td>Common Dreams</td>\n",
       "      <td>Videos #NoDAPL: Native American Leaders Vow to...</td>\n",
       "    </tr>\n",
       "    <tr>\n",
       "      <th>3</th>\n",
       "      <td>20803</td>\n",
       "      <td>Tim Tebow Will Attempt Another Comeback, This ...</td>\n",
       "      <td>Daniel Victor</td>\n",
       "      <td>If at first you don’t succeed, try a different...</td>\n",
       "    </tr>\n",
       "    <tr>\n",
       "      <th>4</th>\n",
       "      <td>20804</td>\n",
       "      <td>Keiser Report: Meme Wars (E995)</td>\n",
       "      <td>Truth Broadcast Network</td>\n",
       "      <td>42 mins ago 1 Views 0 Comments 0 Likes 'For th...</td>\n",
       "    </tr>\n",
       "  </tbody>\n",
       "</table>\n",
       "</div>"
      ],
      "text/plain": [
       "      id                                              title  \\\n",
       "0  20800  Specter of Trump Loosens Tongues, if Not Purse...   \n",
       "1  20801  Russian warships ready to strike terrorists ne...   \n",
       "2  20802  #NoDAPL: Native American Leaders Vow to Stay A...   \n",
       "3  20803  Tim Tebow Will Attempt Another Comeback, This ...   \n",
       "4  20804                    Keiser Report: Meme Wars (E995)   \n",
       "\n",
       "                    author                                               text  \n",
       "0         David Streitfeld  PALO ALTO, Calif.  —   After years of scorning...  \n",
       "1                      NaN  Russian warships ready to strike terrorists ne...  \n",
       "2            Common Dreams  Videos #NoDAPL: Native American Leaders Vow to...  \n",
       "3            Daniel Victor  If at first you don’t succeed, try a different...  \n",
       "4  Truth Broadcast Network  42 mins ago 1 Views 0 Comments 0 Likes 'For th...  "
      ]
     },
     "execution_count": 15,
     "metadata": {},
     "output_type": "execute_result"
    }
   ],
   "source": [
    "test.head()"
   ]
  },
  {
   "cell_type": "code",
   "execution_count": 16,
   "metadata": {
    "execution": {
     "iopub.execute_input": "2020-11-18T20:15:38.455862Z",
     "iopub.status.busy": "2020-11-18T20:15:38.454952Z",
     "iopub.status.idle": "2020-11-18T20:15:54.743766Z",
     "shell.execute_reply": "2020-11-18T20:15:54.742836Z"
    },
    "papermill": {
     "duration": 16.34805,
     "end_time": "2020-11-18T20:15:54.743913",
     "exception": false,
     "start_time": "2020-11-18T20:15:38.395863",
     "status": "completed"
    },
    "tags": []
   },
   "outputs": [],
   "source": [
    "def ozel_karakter (text):\n",
    "    punctation = string.punctuation\n",
    "    return text.translate(str.maketrans(\"\",\"\",punctation))\n",
    "\n",
    "\n",
    "train[\"text\"] = train[\"text\"].apply(lambda x: ozel_karakter(x))\n",
    "train[\"text\"] = train[\"text\"].str.lower()\n",
    "train[\"text\"] = train[\"text\"].str.split()\n",
    "# Test veri setine uygulanması\n",
    "test[\"text\"] = test[\"text\"].apply(lambda x: ozel_karakter(x))\n",
    "test[\"text\"] = test[\"text\"].str.lower()\n",
    "test[\"text\"] = test[\"text\"].str.split()"
   ]
  },
  {
   "cell_type": "markdown",
   "metadata": {
    "papermill": {
     "duration": 0.048864,
     "end_time": "2020-11-18T20:15:54.840877",
     "exception": false,
     "start_time": "2020-11-18T20:15:54.792013",
     "status": "completed"
    },
    "tags": []
   },
   "source": [
    "<a id=\"5\"></a> <br>\n",
    "\n",
    "## Tokenization - Tokenizasyon"
   ]
  },
  {
   "cell_type": "code",
   "execution_count": 17,
   "metadata": {
    "execution": {
     "iopub.execute_input": "2020-11-18T20:15:54.946521Z",
     "iopub.status.busy": "2020-11-18T20:15:54.945569Z",
     "iopub.status.idle": "2020-11-18T20:16:02.425954Z",
     "shell.execute_reply": "2020-11-18T20:16:02.426525Z"
    },
    "papermill": {
     "duration": 7.538116,
     "end_time": "2020-11-18T20:16:02.426701",
     "exception": false,
     "start_time": "2020-11-18T20:15:54.888585",
     "status": "completed"
    },
    "tags": []
   },
   "outputs": [],
   "source": [
    "def stop_words_temizle (text):\n",
    "    words = set(stopwords.words(\"english\"))\n",
    "    return [i for i in text if i not in words]\n",
    "\n",
    "train[\"text\"] = train[\"text\"].apply(lambda x : stop_words_temizle(x))\n",
    "test[\"text\"] = test[\"text\"].apply(lambda x : stop_words_temizle(x))\n"
   ]
  },
  {
   "cell_type": "markdown",
   "metadata": {
    "papermill": {
     "duration": 0.047778,
     "end_time": "2020-11-18T20:16:02.522573",
     "exception": false,
     "start_time": "2020-11-18T20:16:02.474795",
     "status": "completed"
    },
    "tags": []
   },
   "source": [
    "<a id=\"6\"></a> <br>\n",
    "\n",
    "## Lemmatize"
   ]
  },
  {
   "cell_type": "code",
   "execution_count": 18,
   "metadata": {
    "execution": {
     "iopub.execute_input": "2020-11-18T20:16:02.627765Z",
     "iopub.status.busy": "2020-11-18T20:16:02.626863Z",
     "iopub.status.idle": "2020-11-18T20:17:29.758271Z",
     "shell.execute_reply": "2020-11-18T20:17:29.757439Z"
    },
    "papermill": {
     "duration": 87.18754,
     "end_time": "2020-11-18T20:17:29.758404",
     "exception": false,
     "start_time": "2020-11-18T20:16:02.570864",
     "status": "completed"
    },
    "tags": []
   },
   "outputs": [],
   "source": [
    "def lemmatizasyon (text):\n",
    "    lemma = WordNetLemmatizer()\n",
    "    return [lemma.lemmatize(word= i , pos=\"v\") for i in text]\n",
    "\n",
    "train[\"text\"] = train[\"text\"].apply(lambda x: lemmatizasyon(x))\n",
    "test[\"text\"] = test[\"text\"].apply(lambda x: lemmatizasyon(x))"
   ]
  },
  {
   "attachments": {
    "1_T0nY31vvtKC4fuQgEsudbw.png": {
     "image/png": "[encoded data removed]"
    }
   },
   "cell_type": "markdown",
   "metadata": {
    "papermill": {
     "duration": 0.047645,
     "end_time": "2020-11-18T20:17:29.856126",
     "exception": false,
     "start_time": "2020-11-18T20:17:29.808481",
     "status": "completed"
    },
    "tags": []
   },
   "source": [
    "<a id=\"7\"></a> <br>\n",
    "\n",
    "## Deleting Noise Data From Data Set - Veri Setinden Gürültülerin Silinmesi\n",
    "\n",
    "\n",
    "Basically, after performing all the necessary operations in text processing, noise occurs in our data set, so I delete words that are too short.\n",
    "\n",
    "\n",
    "Temel olarak metin işlemede gerekli bütün işlemleri gerçekleştirdikten sonra veri setimizde gürültü oluşur , bu yüzden çok kısa olan kelimeleri siliyorum.\n",
    "\n",
    "![](http://)![1_T0nY31vvtKC4fuQgEsudbw.png](attachment:1_T0nY31vvtKC4fuQgEsudbw.png)"
   ]
  },
  {
   "cell_type": "code",
   "execution_count": 19,
   "metadata": {
    "execution": {
     "iopub.execute_input": "2020-11-18T20:17:29.975956Z",
     "iopub.status.busy": "2020-11-18T20:17:29.959935Z",
     "iopub.status.idle": "2020-11-18T20:17:32.437248Z",
     "shell.execute_reply": "2020-11-18T20:17:32.436530Z"
    },
    "papermill": {
     "duration": 2.533069,
     "end_time": "2020-11-18T20:17:32.437376",
     "exception": false,
     "start_time": "2020-11-18T20:17:29.904307",
     "status": "completed"
    },
    "tags": []
   },
   "outputs": [],
   "source": [
    "def gurultu_sil (text):\n",
    "    return (' '.join([w for w in text if len(w)>2]))\n",
    "\n",
    "train[\"text\"] = train[\"text\"].apply(lambda x : gurultu_sil(x))\n",
    "test[\"text\"] = test[\"text\"].apply(lambda x : gurultu_sil(x))"
   ]
  },
  {
   "cell_type": "markdown",
   "metadata": {
    "papermill": {
     "duration": 0.048291,
     "end_time": "2020-11-18T20:17:32.534974",
     "exception": false,
     "start_time": "2020-11-18T20:17:32.486683",
     "status": "completed"
    },
    "tags": []
   },
   "source": [
    "<a id=\"8\"></a> <br>\n",
    "\n",
    "# TFIDF VECTORİZER"
   ]
  },
  {
   "cell_type": "code",
   "execution_count": 20,
   "metadata": {
    "execution": {
     "iopub.execute_input": "2020-11-18T20:17:32.638689Z",
     "iopub.status.busy": "2020-11-18T20:17:32.637728Z",
     "iopub.status.idle": "2020-11-18T20:17:32.641252Z",
     "shell.execute_reply": "2020-11-18T20:17:32.640490Z"
    },
    "papermill": {
     "duration": 0.058426,
     "end_time": "2020-11-18T20:17:32.641379",
     "exception": false,
     "start_time": "2020-11-18T20:17:32.582953",
     "status": "completed"
    },
    "tags": []
   },
   "outputs": [],
   "source": [
    "\n",
    "from sklearn.feature_extraction.text import TfidfVectorizer"
   ]
  },
  {
   "cell_type": "code",
   "execution_count": 21,
   "metadata": {
    "execution": {
     "iopub.execute_input": "2020-11-18T20:17:32.766692Z",
     "iopub.status.busy": "2020-11-18T20:17:32.750900Z",
     "iopub.status.idle": "2020-11-18T20:19:54.658725Z",
     "shell.execute_reply": "2020-11-18T20:19:54.658010Z"
    },
    "papermill": {
     "duration": 141.967284,
     "end_time": "2020-11-18T20:19:54.658879",
     "exception": false,
     "start_time": "2020-11-18T20:17:32.691595",
     "status": "completed"
    },
    "tags": []
   },
   "outputs": [],
   "source": [
    "# Apply to Train Data\n",
    "#  Eğitim Verisine Uygulanması\n",
    "tfidf_v=TfidfVectorizer(max_features=5200,ngram_range=(1,3))\n",
    "\n",
    "X= tfidf_v.fit_transform(train[\"text\"]).toarray()"
   ]
  },
  {
   "cell_type": "code",
   "execution_count": 22,
   "metadata": {
    "execution": {
     "iopub.execute_input": "2020-11-18T20:19:54.783526Z",
     "iopub.status.busy": "2020-11-18T20:19:54.767730Z",
     "iopub.status.idle": "2020-11-18T20:20:32.354993Z",
     "shell.execute_reply": "2020-11-18T20:20:32.355623Z"
    },
    "papermill": {
     "duration": 37.646785,
     "end_time": "2020-11-18T20:20:32.355791",
     "exception": false,
     "start_time": "2020-11-18T20:19:54.709006",
     "status": "completed"
    },
    "tags": []
   },
   "outputs": [
    {
     "data": {
      "text/html": [
       "<div>\n",
       "<style scoped>\n",
       "    .dataframe tbody tr th:only-of-type {\n",
       "        vertical-align: middle;\n",
       "    }\n",
       "\n",
       "    .dataframe tbody tr th {\n",
       "        vertical-align: top;\n",
       "    }\n",
       "\n",
       "    .dataframe thead th {\n",
       "        text-align: right;\n",
       "    }\n",
       "</style>\n",
       "<table border=\"1\" class=\"dataframe\">\n",
       "  <thead>\n",
       "    <tr style=\"text-align: right;\">\n",
       "      <th></th>\n",
       "      <th>000</th>\n",
       "      <th>000 people</th>\n",
       "      <th>100</th>\n",
       "      <th>100 000</th>\n",
       "      <th>1000</th>\n",
       "      <th>125</th>\n",
       "      <th>150</th>\n",
       "      <th>1960s</th>\n",
       "      <th>1968</th>\n",
       "      <th>1970</th>\n",
       "      <th>...</th>\n",
       "      <th>youtube</th>\n",
       "      <th>zero</th>\n",
       "      <th>zika</th>\n",
       "      <th>zone</th>\n",
       "      <th>zuckerberg</th>\n",
       "      <th>для</th>\n",
       "      <th>как</th>\n",
       "      <th>сша</th>\n",
       "      <th>что</th>\n",
       "      <th>это</th>\n",
       "    </tr>\n",
       "  </thead>\n",
       "  <tbody>\n",
       "    <tr>\n",
       "      <th>0</th>\n",
       "      <td>0.105249</td>\n",
       "      <td>0.0</td>\n",
       "      <td>0.0</td>\n",
       "      <td>0.0</td>\n",
       "      <td>0.0</td>\n",
       "      <td>0.0</td>\n",
       "      <td>0.028852</td>\n",
       "      <td>0.0</td>\n",
       "      <td>0.0</td>\n",
       "      <td>0.0</td>\n",
       "      <td>...</td>\n",
       "      <td>0.0</td>\n",
       "      <td>0.0</td>\n",
       "      <td>0.0</td>\n",
       "      <td>0.0</td>\n",
       "      <td>0.0</td>\n",
       "      <td>0.0</td>\n",
       "      <td>0.0</td>\n",
       "      <td>0.0</td>\n",
       "      <td>0.0</td>\n",
       "      <td>0.0</td>\n",
       "    </tr>\n",
       "    <tr>\n",
       "      <th>1</th>\n",
       "      <td>0.000000</td>\n",
       "      <td>0.0</td>\n",
       "      <td>0.0</td>\n",
       "      <td>0.0</td>\n",
       "      <td>0.0</td>\n",
       "      <td>0.0</td>\n",
       "      <td>0.000000</td>\n",
       "      <td>0.0</td>\n",
       "      <td>0.0</td>\n",
       "      <td>0.0</td>\n",
       "      <td>...</td>\n",
       "      <td>0.0</td>\n",
       "      <td>0.0</td>\n",
       "      <td>0.0</td>\n",
       "      <td>0.0</td>\n",
       "      <td>0.0</td>\n",
       "      <td>0.0</td>\n",
       "      <td>0.0</td>\n",
       "      <td>0.0</td>\n",
       "      <td>0.0</td>\n",
       "      <td>0.0</td>\n",
       "    </tr>\n",
       "    <tr>\n",
       "      <th>2</th>\n",
       "      <td>0.000000</td>\n",
       "      <td>0.0</td>\n",
       "      <td>0.0</td>\n",
       "      <td>0.0</td>\n",
       "      <td>0.0</td>\n",
       "      <td>0.0</td>\n",
       "      <td>0.000000</td>\n",
       "      <td>0.0</td>\n",
       "      <td>0.0</td>\n",
       "      <td>0.0</td>\n",
       "      <td>...</td>\n",
       "      <td>0.0</td>\n",
       "      <td>0.0</td>\n",
       "      <td>0.0</td>\n",
       "      <td>0.0</td>\n",
       "      <td>0.0</td>\n",
       "      <td>0.0</td>\n",
       "      <td>0.0</td>\n",
       "      <td>0.0</td>\n",
       "      <td>0.0</td>\n",
       "      <td>0.0</td>\n",
       "    </tr>\n",
       "    <tr>\n",
       "      <th>3</th>\n",
       "      <td>0.000000</td>\n",
       "      <td>0.0</td>\n",
       "      <td>0.0</td>\n",
       "      <td>0.0</td>\n",
       "      <td>0.0</td>\n",
       "      <td>0.0</td>\n",
       "      <td>0.000000</td>\n",
       "      <td>0.0</td>\n",
       "      <td>0.0</td>\n",
       "      <td>0.0</td>\n",
       "      <td>...</td>\n",
       "      <td>0.0</td>\n",
       "      <td>0.0</td>\n",
       "      <td>0.0</td>\n",
       "      <td>0.0</td>\n",
       "      <td>0.0</td>\n",
       "      <td>0.0</td>\n",
       "      <td>0.0</td>\n",
       "      <td>0.0</td>\n",
       "      <td>0.0</td>\n",
       "      <td>0.0</td>\n",
       "    </tr>\n",
       "    <tr>\n",
       "      <th>4</th>\n",
       "      <td>0.000000</td>\n",
       "      <td>0.0</td>\n",
       "      <td>0.0</td>\n",
       "      <td>0.0</td>\n",
       "      <td>0.0</td>\n",
       "      <td>0.0</td>\n",
       "      <td>0.000000</td>\n",
       "      <td>0.0</td>\n",
       "      <td>0.0</td>\n",
       "      <td>0.0</td>\n",
       "      <td>...</td>\n",
       "      <td>0.0</td>\n",
       "      <td>0.0</td>\n",
       "      <td>0.0</td>\n",
       "      <td>0.0</td>\n",
       "      <td>0.0</td>\n",
       "      <td>0.0</td>\n",
       "      <td>0.0</td>\n",
       "      <td>0.0</td>\n",
       "      <td>0.0</td>\n",
       "      <td>0.0</td>\n",
       "    </tr>\n",
       "  </tbody>\n",
       "</table>\n",
       "<p>5 rows × 5200 columns</p>\n",
       "</div>"
      ],
      "text/plain": [
       "        000  000 people  100  100 000  1000  125       150  1960s  1968  1970  \\\n",
       "0  0.105249         0.0  0.0      0.0   0.0  0.0  0.028852    0.0   0.0   0.0   \n",
       "1  0.000000         0.0  0.0      0.0   0.0  0.0  0.000000    0.0   0.0   0.0   \n",
       "2  0.000000         0.0  0.0      0.0   0.0  0.0  0.000000    0.0   0.0   0.0   \n",
       "3  0.000000         0.0  0.0      0.0   0.0  0.0  0.000000    0.0   0.0   0.0   \n",
       "4  0.000000         0.0  0.0      0.0   0.0  0.0  0.000000    0.0   0.0   0.0   \n",
       "\n",
       "   ...  youtube  zero  zika  zone  zuckerberg  для  как  сша  что  это  \n",
       "0  ...      0.0   0.0   0.0   0.0         0.0  0.0  0.0  0.0  0.0  0.0  \n",
       "1  ...      0.0   0.0   0.0   0.0         0.0  0.0  0.0  0.0  0.0  0.0  \n",
       "2  ...      0.0   0.0   0.0   0.0         0.0  0.0  0.0  0.0  0.0  0.0  \n",
       "3  ...      0.0   0.0   0.0   0.0         0.0  0.0  0.0  0.0  0.0  0.0  \n",
       "4  ...      0.0   0.0   0.0   0.0         0.0  0.0  0.0  0.0  0.0  0.0  \n",
       "\n",
       "[5 rows x 5200 columns]"
      ]
     },
     "execution_count": 22,
     "metadata": {},
     "output_type": "execute_result"
    }
   ],
   "source": [
    "# Apply to Test Data \n",
    "# Test Verisine Uygulanması\n",
    "X_test_data = tfidf_v.fit_transform(test[\"text\"]).toarray()\n",
    "count_df_test = pd.DataFrame(X_test_data, columns=tfidf_v.get_feature_names())\n",
    "count_df_test.head()\n"
   ]
  },
  {
   "cell_type": "code",
   "execution_count": 23,
   "metadata": {
    "execution": {
     "iopub.execute_input": "2020-11-18T20:20:32.473594Z",
     "iopub.status.busy": "2020-11-18T20:20:32.472752Z",
     "iopub.status.idle": "2020-11-18T20:20:32.477616Z",
     "shell.execute_reply": "2020-11-18T20:20:32.476889Z"
    },
    "papermill": {
     "duration": 0.07025,
     "end_time": "2020-11-18T20:20:32.477744",
     "exception": false,
     "start_time": "2020-11-18T20:20:32.407494",
     "status": "completed"
    },
    "tags": []
   },
   "outputs": [
    {
     "data": {
      "text/html": [
       "<div>\n",
       "<style scoped>\n",
       "    .dataframe tbody tr th:only-of-type {\n",
       "        vertical-align: middle;\n",
       "    }\n",
       "\n",
       "    .dataframe tbody tr th {\n",
       "        vertical-align: top;\n",
       "    }\n",
       "\n",
       "    .dataframe thead th {\n",
       "        text-align: right;\n",
       "    }\n",
       "</style>\n",
       "<table border=\"1\" class=\"dataframe\">\n",
       "  <thead>\n",
       "    <tr style=\"text-align: right;\">\n",
       "      <th></th>\n",
       "      <th>index</th>\n",
       "      <th>id</th>\n",
       "      <th>title</th>\n",
       "      <th>author</th>\n",
       "      <th>text</th>\n",
       "      <th>label</th>\n",
       "    </tr>\n",
       "  </thead>\n",
       "  <tbody>\n",
       "    <tr>\n",
       "      <th>0</th>\n",
       "      <td>0</td>\n",
       "      <td>0</td>\n",
       "      <td>House Dem Aide: We Didn’t Even See Comey’s Let...</td>\n",
       "      <td>Darrell Lucus</td>\n",
       "      <td>house dem aide didn’t even see comey’s letter ...</td>\n",
       "      <td>1</td>\n",
       "    </tr>\n",
       "    <tr>\n",
       "      <th>1</th>\n",
       "      <td>1</td>\n",
       "      <td>1</td>\n",
       "      <td>FLYNN: Hillary Clinton, Big Woman on Campus - ...</td>\n",
       "      <td>Daniel J. Flynn</td>\n",
       "      <td>ever get feel life circle roundabout rather he...</td>\n",
       "      <td>0</td>\n",
       "    </tr>\n",
       "    <tr>\n",
       "      <th>2</th>\n",
       "      <td>2</td>\n",
       "      <td>2</td>\n",
       "      <td>Why the Truth Might Get You Fired</td>\n",
       "      <td>Consortiumnews.com</td>\n",
       "      <td>truth might get fire october 2016 tension inte...</td>\n",
       "      <td>1</td>\n",
       "    </tr>\n",
       "    <tr>\n",
       "      <th>3</th>\n",
       "      <td>3</td>\n",
       "      <td>3</td>\n",
       "      <td>15 Civilians Killed In Single US Airstrike Hav...</td>\n",
       "      <td>Jessica Purkiss</td>\n",
       "      <td>videos civilians kill single airstrike identif...</td>\n",
       "      <td>1</td>\n",
       "    </tr>\n",
       "    <tr>\n",
       "      <th>4</th>\n",
       "      <td>4</td>\n",
       "      <td>4</td>\n",
       "      <td>Iranian woman jailed for fictional unpublished...</td>\n",
       "      <td>Howard Portnoy</td>\n",
       "      <td>print iranian woman sentence six years prison ...</td>\n",
       "      <td>1</td>\n",
       "    </tr>\n",
       "  </tbody>\n",
       "</table>\n",
       "</div>"
      ],
      "text/plain": [
       "   index  id                                              title  \\\n",
       "0      0   0  House Dem Aide: We Didn’t Even See Comey’s Let...   \n",
       "1      1   1  FLYNN: Hillary Clinton, Big Woman on Campus - ...   \n",
       "2      2   2                  Why the Truth Might Get You Fired   \n",
       "3      3   3  15 Civilians Killed In Single US Airstrike Hav...   \n",
       "4      4   4  Iranian woman jailed for fictional unpublished...   \n",
       "\n",
       "               author                                               text  \\\n",
       "0       Darrell Lucus  house dem aide didn’t even see comey’s letter ...   \n",
       "1     Daniel J. Flynn  ever get feel life circle roundabout rather he...   \n",
       "2  Consortiumnews.com  truth might get fire october 2016 tension inte...   \n",
       "3     Jessica Purkiss  videos civilians kill single airstrike identif...   \n",
       "4      Howard Portnoy  print iranian woman sentence six years prison ...   \n",
       "\n",
       "   label  \n",
       "0      1  \n",
       "1      0  \n",
       "2      1  \n",
       "3      1  \n",
       "4      1  "
      ]
     },
     "execution_count": 23,
     "metadata": {},
     "output_type": "execute_result"
    }
   ],
   "source": [
    "y = train[\"label\"]\n",
    "train.head()"
   ]
  },
  {
   "cell_type": "code",
   "execution_count": 24,
   "metadata": {
    "execution": {
     "iopub.execute_input": "2020-11-18T20:20:32.606118Z",
     "iopub.status.busy": "2020-11-18T20:20:32.605025Z",
     "iopub.status.idle": "2020-11-18T20:20:32.608929Z",
     "shell.execute_reply": "2020-11-18T20:20:32.608191Z"
    },
    "papermill": {
     "duration": 0.079266,
     "end_time": "2020-11-18T20:20:32.609064",
     "exception": false,
     "start_time": "2020-11-18T20:20:32.529798",
     "status": "completed"
    },
    "tags": []
   },
   "outputs": [],
   "source": [
    "vectorize_data = pd.DataFrame(X , columns =tfidf_v.get_feature_names())"
   ]
  },
  {
   "cell_type": "code",
   "execution_count": 25,
   "metadata": {
    "execution": {
     "iopub.execute_input": "2020-11-18T20:20:32.745373Z",
     "iopub.status.busy": "2020-11-18T20:20:32.721579Z",
     "iopub.status.idle": "2020-11-18T20:20:32.751700Z",
     "shell.execute_reply": "2020-11-18T20:20:32.750934Z"
    },
    "papermill": {
     "duration": 0.090429,
     "end_time": "2020-11-18T20:20:32.751824",
     "exception": false,
     "start_time": "2020-11-18T20:20:32.661395",
     "status": "completed"
    },
    "tags": []
   },
   "outputs": [
    {
     "data": {
      "text/html": [
       "<div>\n",
       "<style scoped>\n",
       "    .dataframe tbody tr th:only-of-type {\n",
       "        vertical-align: middle;\n",
       "    }\n",
       "\n",
       "    .dataframe tbody tr th {\n",
       "        vertical-align: top;\n",
       "    }\n",
       "\n",
       "    .dataframe thead th {\n",
       "        text-align: right;\n",
       "    }\n",
       "</style>\n",
       "<table border=\"1\" class=\"dataframe\">\n",
       "  <thead>\n",
       "    <tr style=\"text-align: right;\">\n",
       "      <th></th>\n",
       "      <th>000</th>\n",
       "      <th>000 people</th>\n",
       "      <th>100</th>\n",
       "      <th>100 000</th>\n",
       "      <th>1000</th>\n",
       "      <th>125</th>\n",
       "      <th>150</th>\n",
       "      <th>1960s</th>\n",
       "      <th>1968</th>\n",
       "      <th>1970</th>\n",
       "      <th>...</th>\n",
       "      <th>youtube</th>\n",
       "      <th>zero</th>\n",
       "      <th>zika</th>\n",
       "      <th>zone</th>\n",
       "      <th>zuckerberg</th>\n",
       "      <th>для</th>\n",
       "      <th>как</th>\n",
       "      <th>сша</th>\n",
       "      <th>что</th>\n",
       "      <th>это</th>\n",
       "    </tr>\n",
       "  </thead>\n",
       "  <tbody>\n",
       "    <tr>\n",
       "      <th>0</th>\n",
       "      <td>0.0</td>\n",
       "      <td>0.0</td>\n",
       "      <td>0.0</td>\n",
       "      <td>0.0</td>\n",
       "      <td>0.0</td>\n",
       "      <td>0.0</td>\n",
       "      <td>0.0</td>\n",
       "      <td>0.000000</td>\n",
       "      <td>0.0</td>\n",
       "      <td>0.0</td>\n",
       "      <td>...</td>\n",
       "      <td>0.0</td>\n",
       "      <td>0.0</td>\n",
       "      <td>0.0</td>\n",
       "      <td>0.0</td>\n",
       "      <td>0.0</td>\n",
       "      <td>0.0</td>\n",
       "      <td>0.0</td>\n",
       "      <td>0.0</td>\n",
       "      <td>0.0</td>\n",
       "      <td>0.0</td>\n",
       "    </tr>\n",
       "    <tr>\n",
       "      <th>1</th>\n",
       "      <td>0.0</td>\n",
       "      <td>0.0</td>\n",
       "      <td>0.0</td>\n",
       "      <td>0.0</td>\n",
       "      <td>0.0</td>\n",
       "      <td>0.0</td>\n",
       "      <td>0.0</td>\n",
       "      <td>0.065383</td>\n",
       "      <td>0.0</td>\n",
       "      <td>0.0</td>\n",
       "      <td>...</td>\n",
       "      <td>0.0</td>\n",
       "      <td>0.0</td>\n",
       "      <td>0.0</td>\n",
       "      <td>0.0</td>\n",
       "      <td>0.0</td>\n",
       "      <td>0.0</td>\n",
       "      <td>0.0</td>\n",
       "      <td>0.0</td>\n",
       "      <td>0.0</td>\n",
       "      <td>0.0</td>\n",
       "    </tr>\n",
       "    <tr>\n",
       "      <th>2</th>\n",
       "      <td>0.0</td>\n",
       "      <td>0.0</td>\n",
       "      <td>0.0</td>\n",
       "      <td>0.0</td>\n",
       "      <td>0.0</td>\n",
       "      <td>0.0</td>\n",
       "      <td>0.0</td>\n",
       "      <td>0.000000</td>\n",
       "      <td>0.0</td>\n",
       "      <td>0.0</td>\n",
       "      <td>...</td>\n",
       "      <td>0.0</td>\n",
       "      <td>0.0</td>\n",
       "      <td>0.0</td>\n",
       "      <td>0.0</td>\n",
       "      <td>0.0</td>\n",
       "      <td>0.0</td>\n",
       "      <td>0.0</td>\n",
       "      <td>0.0</td>\n",
       "      <td>0.0</td>\n",
       "      <td>0.0</td>\n",
       "    </tr>\n",
       "    <tr>\n",
       "      <th>3</th>\n",
       "      <td>0.0</td>\n",
       "      <td>0.0</td>\n",
       "      <td>0.0</td>\n",
       "      <td>0.0</td>\n",
       "      <td>0.0</td>\n",
       "      <td>0.0</td>\n",
       "      <td>0.0</td>\n",
       "      <td>0.000000</td>\n",
       "      <td>0.0</td>\n",
       "      <td>0.0</td>\n",
       "      <td>...</td>\n",
       "      <td>0.0</td>\n",
       "      <td>0.0</td>\n",
       "      <td>0.0</td>\n",
       "      <td>0.0</td>\n",
       "      <td>0.0</td>\n",
       "      <td>0.0</td>\n",
       "      <td>0.0</td>\n",
       "      <td>0.0</td>\n",
       "      <td>0.0</td>\n",
       "      <td>0.0</td>\n",
       "    </tr>\n",
       "    <tr>\n",
       "      <th>4</th>\n",
       "      <td>0.0</td>\n",
       "      <td>0.0</td>\n",
       "      <td>0.0</td>\n",
       "      <td>0.0</td>\n",
       "      <td>0.0</td>\n",
       "      <td>0.0</td>\n",
       "      <td>0.0</td>\n",
       "      <td>0.000000</td>\n",
       "      <td>0.0</td>\n",
       "      <td>0.0</td>\n",
       "      <td>...</td>\n",
       "      <td>0.0</td>\n",
       "      <td>0.0</td>\n",
       "      <td>0.0</td>\n",
       "      <td>0.0</td>\n",
       "      <td>0.0</td>\n",
       "      <td>0.0</td>\n",
       "      <td>0.0</td>\n",
       "      <td>0.0</td>\n",
       "      <td>0.0</td>\n",
       "      <td>0.0</td>\n",
       "    </tr>\n",
       "  </tbody>\n",
       "</table>\n",
       "<p>5 rows × 5200 columns</p>\n",
       "</div>"
      ],
      "text/plain": [
       "   000  000 people  100  100 000  1000  125  150     1960s  1968  1970  ...  \\\n",
       "0  0.0         0.0  0.0      0.0   0.0  0.0  0.0  0.000000   0.0   0.0  ...   \n",
       "1  0.0         0.0  0.0      0.0   0.0  0.0  0.0  0.065383   0.0   0.0  ...   \n",
       "2  0.0         0.0  0.0      0.0   0.0  0.0  0.0  0.000000   0.0   0.0  ...   \n",
       "3  0.0         0.0  0.0      0.0   0.0  0.0  0.0  0.000000   0.0   0.0  ...   \n",
       "4  0.0         0.0  0.0      0.0   0.0  0.0  0.0  0.000000   0.0   0.0  ...   \n",
       "\n",
       "   youtube  zero  zika  zone  zuckerberg  для  как  сша  что  это  \n",
       "0      0.0   0.0   0.0   0.0         0.0  0.0  0.0  0.0  0.0  0.0  \n",
       "1      0.0   0.0   0.0   0.0         0.0  0.0  0.0  0.0  0.0  0.0  \n",
       "2      0.0   0.0   0.0   0.0         0.0  0.0  0.0  0.0  0.0  0.0  \n",
       "3      0.0   0.0   0.0   0.0         0.0  0.0  0.0  0.0  0.0  0.0  \n",
       "4      0.0   0.0   0.0   0.0         0.0  0.0  0.0  0.0  0.0  0.0  \n",
       "\n",
       "[5 rows x 5200 columns]"
      ]
     },
     "execution_count": 25,
     "metadata": {},
     "output_type": "execute_result"
    }
   ],
   "source": [
    "vectorize_data.head()"
   ]
  },
  {
   "cell_type": "markdown",
   "metadata": {
    "papermill": {
     "duration": 0.052752,
     "end_time": "2020-11-18T20:20:32.858395",
     "exception": false,
     "start_time": "2020-11-18T20:20:32.805643",
     "status": "completed"
    },
    "tags": []
   },
   "source": [
    "<a id=\"9\"></a> <br>\n",
    "\n",
    "# Train-Test Split "
   ]
  },
  {
   "cell_type": "code",
   "execution_count": 26,
   "metadata": {
    "execution": {
     "iopub.execute_input": "2020-11-18T20:20:33.202875Z",
     "iopub.status.busy": "2020-11-18T20:20:32.988278Z",
     "iopub.status.idle": "2020-11-18T20:20:33.261975Z",
     "shell.execute_reply": "2020-11-18T20:20:33.262676Z"
    },
    "papermill": {
     "duration": 0.348879,
     "end_time": "2020-11-18T20:20:33.262847",
     "exception": false,
     "start_time": "2020-11-18T20:20:32.913968",
     "status": "completed"
    },
    "tags": []
   },
   "outputs": [],
   "source": [
    "from sklearn.model_selection import train_test_split\n",
    "\n",
    "X_train, X_test, y_train, y_test = train_test_split(vectorize_data, y, test_size=0.2, random_state=0)"
   ]
  },
  {
   "cell_type": "code",
   "execution_count": 27,
   "metadata": {
    "execution": {
     "iopub.execute_input": "2020-11-18T20:20:33.404042Z",
     "iopub.status.busy": "2020-11-18T20:20:33.384219Z",
     "iopub.status.idle": "2020-11-18T20:20:33.410055Z",
     "shell.execute_reply": "2020-11-18T20:20:33.409055Z"
    },
    "papermill": {
     "duration": 0.093775,
     "end_time": "2020-11-18T20:20:33.410247",
     "exception": false,
     "start_time": "2020-11-18T20:20:33.316472",
     "status": "completed"
    },
    "tags": []
   },
   "outputs": [
    {
     "data": {
      "text/html": [
       "<div>\n",
       "<style scoped>\n",
       "    .dataframe tbody tr th:only-of-type {\n",
       "        vertical-align: middle;\n",
       "    }\n",
       "\n",
       "    .dataframe tbody tr th {\n",
       "        vertical-align: top;\n",
       "    }\n",
       "\n",
       "    .dataframe thead th {\n",
       "        text-align: right;\n",
       "    }\n",
       "</style>\n",
       "<table border=\"1\" class=\"dataframe\">\n",
       "  <thead>\n",
       "    <tr style=\"text-align: right;\">\n",
       "      <th></th>\n",
       "      <th>000</th>\n",
       "      <th>000 people</th>\n",
       "      <th>100</th>\n",
       "      <th>100 000</th>\n",
       "      <th>1000</th>\n",
       "      <th>125</th>\n",
       "      <th>150</th>\n",
       "      <th>1960s</th>\n",
       "      <th>1968</th>\n",
       "      <th>1970</th>\n",
       "      <th>...</th>\n",
       "      <th>youtube</th>\n",
       "      <th>zero</th>\n",
       "      <th>zika</th>\n",
       "      <th>zone</th>\n",
       "      <th>zuckerberg</th>\n",
       "      <th>для</th>\n",
       "      <th>как</th>\n",
       "      <th>сша</th>\n",
       "      <th>что</th>\n",
       "      <th>это</th>\n",
       "    </tr>\n",
       "  </thead>\n",
       "  <tbody>\n",
       "    <tr>\n",
       "      <th>8843</th>\n",
       "      <td>0.0</td>\n",
       "      <td>0.0</td>\n",
       "      <td>0.0</td>\n",
       "      <td>0.0</td>\n",
       "      <td>0.0</td>\n",
       "      <td>0.096281</td>\n",
       "      <td>0.0</td>\n",
       "      <td>0.0</td>\n",
       "      <td>0.0</td>\n",
       "      <td>0.0</td>\n",
       "      <td>...</td>\n",
       "      <td>0.0</td>\n",
       "      <td>0.0</td>\n",
       "      <td>0.0</td>\n",
       "      <td>0.0</td>\n",
       "      <td>0.0</td>\n",
       "      <td>0.0</td>\n",
       "      <td>0.000000</td>\n",
       "      <td>0.0</td>\n",
       "      <td>0.0</td>\n",
       "      <td>0.0</td>\n",
       "    </tr>\n",
       "    <tr>\n",
       "      <th>6080</th>\n",
       "      <td>0.0</td>\n",
       "      <td>0.0</td>\n",
       "      <td>0.0</td>\n",
       "      <td>0.0</td>\n",
       "      <td>0.0</td>\n",
       "      <td>0.000000</td>\n",
       "      <td>0.0</td>\n",
       "      <td>0.0</td>\n",
       "      <td>0.0</td>\n",
       "      <td>0.0</td>\n",
       "      <td>...</td>\n",
       "      <td>0.0</td>\n",
       "      <td>0.0</td>\n",
       "      <td>0.0</td>\n",
       "      <td>0.0</td>\n",
       "      <td>0.0</td>\n",
       "      <td>0.0</td>\n",
       "      <td>0.000000</td>\n",
       "      <td>0.0</td>\n",
       "      <td>0.0</td>\n",
       "      <td>0.0</td>\n",
       "    </tr>\n",
       "    <tr>\n",
       "      <th>11437</th>\n",
       "      <td>0.0</td>\n",
       "      <td>0.0</td>\n",
       "      <td>0.0</td>\n",
       "      <td>0.0</td>\n",
       "      <td>0.0</td>\n",
       "      <td>0.000000</td>\n",
       "      <td>0.0</td>\n",
       "      <td>0.0</td>\n",
       "      <td>0.0</td>\n",
       "      <td>0.0</td>\n",
       "      <td>...</td>\n",
       "      <td>0.0</td>\n",
       "      <td>0.0</td>\n",
       "      <td>0.0</td>\n",
       "      <td>0.0</td>\n",
       "      <td>0.0</td>\n",
       "      <td>0.0</td>\n",
       "      <td>0.043856</td>\n",
       "      <td>0.0</td>\n",
       "      <td>0.0</td>\n",
       "      <td>0.0</td>\n",
       "    </tr>\n",
       "    <tr>\n",
       "      <th>4367</th>\n",
       "      <td>0.0</td>\n",
       "      <td>0.0</td>\n",
       "      <td>0.0</td>\n",
       "      <td>0.0</td>\n",
       "      <td>0.0</td>\n",
       "      <td>0.000000</td>\n",
       "      <td>0.0</td>\n",
       "      <td>0.0</td>\n",
       "      <td>0.0</td>\n",
       "      <td>0.0</td>\n",
       "      <td>...</td>\n",
       "      <td>0.0</td>\n",
       "      <td>0.0</td>\n",
       "      <td>0.0</td>\n",
       "      <td>0.0</td>\n",
       "      <td>0.0</td>\n",
       "      <td>0.0</td>\n",
       "      <td>0.000000</td>\n",
       "      <td>0.0</td>\n",
       "      <td>0.0</td>\n",
       "      <td>0.0</td>\n",
       "    </tr>\n",
       "    <tr>\n",
       "      <th>9751</th>\n",
       "      <td>0.0</td>\n",
       "      <td>0.0</td>\n",
       "      <td>0.0</td>\n",
       "      <td>0.0</td>\n",
       "      <td>0.0</td>\n",
       "      <td>0.000000</td>\n",
       "      <td>0.0</td>\n",
       "      <td>0.0</td>\n",
       "      <td>0.0</td>\n",
       "      <td>0.0</td>\n",
       "      <td>...</td>\n",
       "      <td>0.0</td>\n",
       "      <td>0.0</td>\n",
       "      <td>0.0</td>\n",
       "      <td>0.0</td>\n",
       "      <td>0.0</td>\n",
       "      <td>0.0</td>\n",
       "      <td>0.000000</td>\n",
       "      <td>0.0</td>\n",
       "      <td>0.0</td>\n",
       "      <td>0.0</td>\n",
       "    </tr>\n",
       "  </tbody>\n",
       "</table>\n",
       "<p>5 rows × 5200 columns</p>\n",
       "</div>"
      ],
      "text/plain": [
       "       000  000 people  100  100 000  1000       125  150  1960s  1968  1970  \\\n",
       "8843   0.0         0.0  0.0      0.0   0.0  0.096281  0.0    0.0   0.0   0.0   \n",
       "6080   0.0         0.0  0.0      0.0   0.0  0.000000  0.0    0.0   0.0   0.0   \n",
       "11437  0.0         0.0  0.0      0.0   0.0  0.000000  0.0    0.0   0.0   0.0   \n",
       "4367   0.0         0.0  0.0      0.0   0.0  0.000000  0.0    0.0   0.0   0.0   \n",
       "9751   0.0         0.0  0.0      0.0   0.0  0.000000  0.0    0.0   0.0   0.0   \n",
       "\n",
       "       ...  youtube  zero  zika  zone  zuckerberg  для       как  сша  что  \\\n",
       "8843   ...      0.0   0.0   0.0   0.0         0.0  0.0  0.000000  0.0  0.0   \n",
       "6080   ...      0.0   0.0   0.0   0.0         0.0  0.0  0.000000  0.0  0.0   \n",
       "11437  ...      0.0   0.0   0.0   0.0         0.0  0.0  0.043856  0.0  0.0   \n",
       "4367   ...      0.0   0.0   0.0   0.0         0.0  0.0  0.000000  0.0  0.0   \n",
       "9751   ...      0.0   0.0   0.0   0.0         0.0  0.0  0.000000  0.0  0.0   \n",
       "\n",
       "       это  \n",
       "8843   0.0  \n",
       "6080   0.0  \n",
       "11437  0.0  \n",
       "4367   0.0  \n",
       "9751   0.0  \n",
       "\n",
       "[5 rows x 5200 columns]"
      ]
     },
     "execution_count": 27,
     "metadata": {},
     "output_type": "execute_result"
    }
   ],
   "source": [
    "X_train.head()"
   ]
  },
  {
   "cell_type": "code",
   "execution_count": 28,
   "metadata": {
    "execution": {
     "iopub.execute_input": "2020-11-18T20:20:33.528968Z",
     "iopub.status.busy": "2020-11-18T20:20:33.527849Z",
     "iopub.status.idle": "2020-11-18T20:20:33.533199Z",
     "shell.execute_reply": "2020-11-18T20:20:33.532462Z"
    },
    "papermill": {
     "duration": 0.067354,
     "end_time": "2020-11-18T20:20:33.533328",
     "exception": false,
     "start_time": "2020-11-18T20:20:33.465974",
     "status": "completed"
    },
    "tags": []
   },
   "outputs": [
    {
     "data": {
      "text/plain": [
       "8843     1\n",
       "6080     1\n",
       "11437    1\n",
       "4367     1\n",
       "9751     1\n",
       "Name: label, dtype: int64"
      ]
     },
     "execution_count": 28,
     "metadata": {},
     "output_type": "execute_result"
    }
   ],
   "source": [
    "y_train.head()"
   ]
  },
  {
   "cell_type": "markdown",
   "metadata": {
    "papermill": {
     "duration": 0.053047,
     "end_time": "2020-11-18T20:20:33.639533",
     "exception": false,
     "start_time": "2020-11-18T20:20:33.586486",
     "status": "completed"
    },
    "tags": []
   },
   "source": [
    "<a id=\"10\"></a> <br>\n",
    "\n",
    "# Multinomial Naive-Bayes"
   ]
  },
  {
   "cell_type": "code",
   "execution_count": 29,
   "metadata": {
    "execution": {
     "iopub.execute_input": "2020-11-18T20:20:33.761029Z",
     "iopub.status.busy": "2020-11-18T20:20:33.760073Z",
     "iopub.status.idle": "2020-11-18T20:20:34.091841Z",
     "shell.execute_reply": "2020-11-18T20:20:34.092490Z"
    },
    "papermill": {
     "duration": 0.397845,
     "end_time": "2020-11-18T20:20:34.092718",
     "exception": false,
     "start_time": "2020-11-18T20:20:33.694873",
     "status": "completed"
    },
    "tags": []
   },
   "outputs": [
    {
     "name": "stdout",
     "output_type": "stream",
     "text": [
      "accuracy:   0.890\n"
     ]
    }
   ],
   "source": [
    "from sklearn.naive_bayes import MultinomialNB\n",
    "from sklearn import metrics\n",
    "import itertools\n",
    "\n",
    "classifier=MultinomialNB()\n",
    "classifier.fit(X_train, y_train)\n",
    "prediction = classifier.predict(X_test)\n",
    "score = metrics.accuracy_score(y_test, prediction)\n",
    "print(\"accuracy:   %0.3f\" % score)"
   ]
  },
  {
   "cell_type": "markdown",
   "metadata": {
    "papermill": {
     "duration": 0.053348,
     "end_time": "2020-11-18T20:20:34.200450",
     "exception": false,
     "start_time": "2020-11-18T20:20:34.147102",
     "status": "completed"
    },
    "tags": []
   },
   "source": [
    "<a id=\"11\"></a> <br>\n",
    "\n",
    "# Logistic Regression"
   ]
  },
  {
   "cell_type": "code",
   "execution_count": 30,
   "metadata": {
    "execution": {
     "iopub.execute_input": "2020-11-18T20:20:34.348313Z",
     "iopub.status.busy": "2020-11-18T20:20:34.321888Z",
     "iopub.status.idle": "2020-11-18T20:20:36.882968Z",
     "shell.execute_reply": "2020-11-18T20:20:36.883662Z"
    },
    "papermill": {
     "duration": 2.629706,
     "end_time": "2020-11-18T20:20:36.883838",
     "exception": false,
     "start_time": "2020-11-18T20:20:34.254132",
     "status": "completed"
    },
    "tags": []
   },
   "outputs": [
    {
     "name": "stdout",
     "output_type": "stream",
     "text": [
      "accuracy:   0.949\n"
     ]
    }
   ],
   "source": [
    "from sklearn.linear_model import LogisticRegression\n",
    "\n",
    "LR = LogisticRegression()\n",
    "\n",
    "LR.fit(X_train, y_train)\n",
    "pred_LR = LR.predict(X_test)\n",
    "\n",
    "score_LR = metrics.accuracy_score(y_test, pred_LR)\n",
    "print(\"accuracy:   %0.3f\" % score_LR)"
   ]
  },
  {
   "cell_type": "markdown",
   "metadata": {
    "papermill": {
     "duration": 0.054487,
     "end_time": "2020-11-18T20:20:36.993482",
     "exception": false,
     "start_time": "2020-11-18T20:20:36.938995",
     "status": "completed"
    },
    "tags": []
   },
   "source": [
    "<a id=\"12\"></a> <br>\n",
    "\n",
    "## Prediction Test "
   ]
  },
  {
   "cell_type": "code",
   "execution_count": 31,
   "metadata": {
    "execution": {
     "iopub.execute_input": "2020-11-18T20:20:37.109498Z",
     "iopub.status.busy": "2020-11-18T20:20:37.107716Z",
     "iopub.status.idle": "2020-11-18T20:20:37.208377Z",
     "shell.execute_reply": "2020-11-18T20:20:37.207695Z"
    },
    "papermill": {
     "duration": 0.159218,
     "end_time": "2020-11-18T20:20:37.208509",
     "exception": false,
     "start_time": "2020-11-18T20:20:37.049291",
     "status": "completed"
    },
    "tags": []
   },
   "outputs": [],
   "source": [
    "prediction_test = LR.predict(count_df_test)\n"
   ]
  },
  {
   "cell_type": "code",
   "execution_count": 32,
   "metadata": {
    "execution": {
     "iopub.execute_input": "2020-11-18T20:20:37.327886Z",
     "iopub.status.busy": "2020-11-18T20:20:37.326806Z",
     "iopub.status.idle": "2020-11-18T20:20:37.331989Z",
     "shell.execute_reply": "2020-11-18T20:20:37.331273Z"
    },
    "papermill": {
     "duration": 0.067856,
     "end_time": "2020-11-18T20:20:37.332116",
     "exception": false,
     "start_time": "2020-11-18T20:20:37.264260",
     "status": "completed"
    },
    "tags": []
   },
   "outputs": [
    {
     "data": {
      "text/plain": [
       "array([0, 1, 1, ..., 0, 1, 1])"
      ]
     },
     "execution_count": 32,
     "metadata": {},
     "output_type": "execute_result"
    }
   ],
   "source": [
    "prediction_test"
   ]
  },
  {
   "cell_type": "markdown",
   "metadata": {
    "papermill": {
     "duration": 0.060085,
     "end_time": "2020-11-18T20:20:37.447809",
     "exception": false,
     "start_time": "2020-11-18T20:20:37.387724",
     "status": "completed"
    },
    "tags": []
   },
   "source": [
    "<a id=\"13\"></a> <br>\n",
    "\n",
    "# SUBMİT"
   ]
  },
  {
   "cell_type": "code",
   "execution_count": 33,
   "metadata": {
    "execution": {
     "iopub.execute_input": "2020-11-18T20:20:37.567619Z",
     "iopub.status.busy": "2020-11-18T20:20:37.566740Z",
     "iopub.status.idle": "2020-11-18T20:20:37.571203Z",
     "shell.execute_reply": "2020-11-18T20:20:37.570595Z"
    },
    "papermill": {
     "duration": 0.06829,
     "end_time": "2020-11-18T20:20:37.571328",
     "exception": false,
     "start_time": "2020-11-18T20:20:37.503038",
     "status": "completed"
    },
    "tags": []
   },
   "outputs": [
    {
     "data": {
      "text/html": [
       "<div>\n",
       "<style scoped>\n",
       "    .dataframe tbody tr th:only-of-type {\n",
       "        vertical-align: middle;\n",
       "    }\n",
       "\n",
       "    .dataframe tbody tr th {\n",
       "        vertical-align: top;\n",
       "    }\n",
       "\n",
       "    .dataframe thead th {\n",
       "        text-align: right;\n",
       "    }\n",
       "</style>\n",
       "<table border=\"1\" class=\"dataframe\">\n",
       "  <thead>\n",
       "    <tr style=\"text-align: right;\">\n",
       "      <th></th>\n",
       "      <th>id</th>\n",
       "      <th>label</th>\n",
       "    </tr>\n",
       "  </thead>\n",
       "  <tbody>\n",
       "    <tr>\n",
       "      <th>0</th>\n",
       "      <td>20800</td>\n",
       "      <td>0</td>\n",
       "    </tr>\n",
       "    <tr>\n",
       "      <th>1</th>\n",
       "      <td>20801</td>\n",
       "      <td>1</td>\n",
       "    </tr>\n",
       "    <tr>\n",
       "      <th>2</th>\n",
       "      <td>20802</td>\n",
       "      <td>0</td>\n",
       "    </tr>\n",
       "    <tr>\n",
       "      <th>3</th>\n",
       "      <td>20803</td>\n",
       "      <td>1</td>\n",
       "    </tr>\n",
       "    <tr>\n",
       "      <th>4</th>\n",
       "      <td>20804</td>\n",
       "      <td>1</td>\n",
       "    </tr>\n",
       "  </tbody>\n",
       "</table>\n",
       "</div>"
      ],
      "text/plain": [
       "      id  label\n",
       "0  20800      0\n",
       "1  20801      1\n",
       "2  20802      0\n",
       "3  20803      1\n",
       "4  20804      1"
      ]
     },
     "execution_count": 33,
     "metadata": {},
     "output_type": "execute_result"
    }
   ],
   "source": [
    "submit.head()\n"
   ]
  },
  {
   "cell_type": "code",
   "execution_count": 34,
   "metadata": {
    "execution": {
     "iopub.execute_input": "2020-11-18T20:20:37.691804Z",
     "iopub.status.busy": "2020-11-18T20:20:37.690753Z",
     "iopub.status.idle": "2020-11-18T20:20:37.693578Z",
     "shell.execute_reply": "2020-11-18T20:20:37.694372Z"
    },
    "papermill": {
     "duration": 0.066694,
     "end_time": "2020-11-18T20:20:37.694558",
     "exception": false,
     "start_time": "2020-11-18T20:20:37.627864",
     "status": "completed"
    },
    "tags": []
   },
   "outputs": [],
   "source": [
    "submit['label']=prediction_test"
   ]
  },
  {
   "cell_type": "code",
   "execution_count": 35,
   "metadata": {
    "execution": {
     "iopub.execute_input": "2020-11-18T20:20:37.812668Z",
     "iopub.status.busy": "2020-11-18T20:20:37.811878Z",
     "iopub.status.idle": "2020-11-18T20:20:38.164789Z",
     "shell.execute_reply": "2020-11-18T20:20:38.163982Z"
    },
    "papermill": {
     "duration": 0.414568,
     "end_time": "2020-11-18T20:20:38.164920",
     "exception": false,
     "start_time": "2020-11-18T20:20:37.750352",
     "status": "completed"
    },
    "tags": []
   },
   "outputs": [
    {
     "data": {
      "text/html": [
       "<a href='submission_first.csv' target='_blank'>submission_first.csv</a><br>"
      ],
      "text/plain": [
       "/kaggle/working/submission_first.csv"
      ]
     },
     "execution_count": 35,
     "metadata": {},
     "output_type": "execute_result"
    }
   ],
   "source": [
    "submit.to_csv('submission_first.csv', index=False)\n",
    "from IPython.display import FileLink\n",
    "FileLink(r'submission_first.csv')\n"
   ]
  },
  {
   "cell_type": "code",
   "execution_count": 36,
   "metadata": {
    "execution": {
     "iopub.execute_input": "2020-11-18T20:20:38.312578Z",
     "iopub.status.busy": "2020-11-18T20:20:38.291106Z",
     "iopub.status.idle": "2020-11-18T20:20:38.395987Z",
     "shell.execute_reply": "2020-11-18T20:20:38.395110Z"
    },
    "papermill": {
     "duration": 0.173548,
     "end_time": "2020-11-18T20:20:38.396119",
     "exception": false,
     "start_time": "2020-11-18T20:20:38.222571",
     "status": "completed"
    },
    "tags": []
   },
   "outputs": [],
   "source": [
    "pred_test_nb = classifier.predict(count_df_test)\n"
   ]
  },
  {
   "cell_type": "code",
   "execution_count": 37,
   "metadata": {
    "execution": {
     "iopub.execute_input": "2020-11-18T20:20:38.520671Z",
     "iopub.status.busy": "2020-11-18T20:20:38.519625Z",
     "iopub.status.idle": "2020-11-18T20:20:38.524216Z",
     "shell.execute_reply": "2020-11-18T20:20:38.523327Z"
    },
    "papermill": {
     "duration": 0.070339,
     "end_time": "2020-11-18T20:20:38.524371",
     "exception": false,
     "start_time": "2020-11-18T20:20:38.454032",
     "status": "completed"
    },
    "tags": []
   },
   "outputs": [],
   "source": [
    "submit['label']=pred_test_nb\n"
   ]
  },
  {
   "cell_type": "code",
   "execution_count": 38,
   "metadata": {
    "execution": {
     "iopub.execute_input": "2020-11-18T20:20:38.651835Z",
     "iopub.status.busy": "2020-11-18T20:20:38.651026Z",
     "iopub.status.idle": "2020-11-18T20:20:38.658474Z",
     "shell.execute_reply": "2020-11-18T20:20:38.657659Z"
    },
    "papermill": {
     "duration": 0.076114,
     "end_time": "2020-11-18T20:20:38.658616",
     "exception": false,
     "start_time": "2020-11-18T20:20:38.582502",
     "status": "completed"
    },
    "tags": []
   },
   "outputs": [
    {
     "data": {
      "text/html": [
       "<div>\n",
       "<style scoped>\n",
       "    .dataframe tbody tr th:only-of-type {\n",
       "        vertical-align: middle;\n",
       "    }\n",
       "\n",
       "    .dataframe tbody tr th {\n",
       "        vertical-align: top;\n",
       "    }\n",
       "\n",
       "    .dataframe thead th {\n",
       "        text-align: right;\n",
       "    }\n",
       "</style>\n",
       "<table border=\"1\" class=\"dataframe\">\n",
       "  <thead>\n",
       "    <tr style=\"text-align: right;\">\n",
       "      <th></th>\n",
       "      <th>id</th>\n",
       "      <th>label</th>\n",
       "    </tr>\n",
       "  </thead>\n",
       "  <tbody>\n",
       "    <tr>\n",
       "      <th>0</th>\n",
       "      <td>20800</td>\n",
       "      <td>0</td>\n",
       "    </tr>\n",
       "    <tr>\n",
       "      <th>1</th>\n",
       "      <td>20801</td>\n",
       "      <td>0</td>\n",
       "    </tr>\n",
       "    <tr>\n",
       "      <th>2</th>\n",
       "      <td>20802</td>\n",
       "      <td>1</td>\n",
       "    </tr>\n",
       "    <tr>\n",
       "      <th>3</th>\n",
       "      <td>20803</td>\n",
       "      <td>0</td>\n",
       "    </tr>\n",
       "    <tr>\n",
       "      <th>4</th>\n",
       "      <td>20804</td>\n",
       "      <td>0</td>\n",
       "    </tr>\n",
       "  </tbody>\n",
       "</table>\n",
       "</div>"
      ],
      "text/plain": [
       "      id  label\n",
       "0  20800      0\n",
       "1  20801      0\n",
       "2  20802      1\n",
       "3  20803      0\n",
       "4  20804      0"
      ]
     },
     "execution_count": 38,
     "metadata": {},
     "output_type": "execute_result"
    }
   ],
   "source": [
    "submit.head()\n"
   ]
  },
  {
   "cell_type": "code",
   "execution_count": 39,
   "metadata": {
    "execution": {
     "iopub.execute_input": "2020-11-18T20:20:38.784298Z",
     "iopub.status.busy": "2020-11-18T20:20:38.783251Z",
     "iopub.status.idle": "2020-11-18T20:20:38.801958Z",
     "shell.execute_reply": "2020-11-18T20:20:38.802554Z"
    },
    "papermill": {
     "duration": 0.085252,
     "end_time": "2020-11-18T20:20:38.802740",
     "exception": false,
     "start_time": "2020-11-18T20:20:38.717488",
     "status": "completed"
    },
    "tags": []
   },
   "outputs": [
    {
     "data": {
      "text/html": [
       "<a href='submission_second.csv' target='_blank'>submission_second.csv</a><br>"
      ],
      "text/plain": [
       "/kaggle/working/submission_second.csv"
      ]
     },
     "execution_count": 39,
     "metadata": {},
     "output_type": "execute_result"
    }
   ],
   "source": [
    "submit.to_csv('submission_second.csv',index=False)\n",
    "FileLink(r'submission_second.csv')"
   ]
  }
 ],
 "metadata": {
  "kernelspec": {
   "display_name": "Python 3",
   "language": "python",
   "name": "python3"
  },
  "language_info": {
   "codemirror_mode": {
    "name": "ipython",
    "version": 3
   },
   "file_extension": ".py",
   "mimetype": "text/x-python",
   "name": "python",
   "nbconvert_exporter": "python",
   "pygments_lexer": "ipython3",
   "version": "3.7.6"
  },
  "papermill": {
   "duration": 311.912721,
   "end_time": "2020-11-18T20:20:39.071556",
   "environment_variables": {},
   "exception": null,
   "input_path": "__notebook__.ipynb",
   "output_path": "__notebook__.ipynb",
   "parameters": {},
   "start_time": "2020-11-18T20:15:27.158835",
   "version": "2.1.0"
  }
 },
 "nbformat": 4,
 "nbformat_minor": 4
}
