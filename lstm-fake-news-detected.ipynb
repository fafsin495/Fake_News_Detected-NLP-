{
 "cells": [
  {
   "cell_type": "markdown",
   "metadata": {
    "papermill": {
     "duration": 0.045203,
     "end_time": "2020-11-18T22:22:22.203847",
     "exception": false,
     "start_time": "2020-11-18T22:22:22.158644",
     "status": "completed"
    },
    "tags": []
   },
   "source": [
    "# LSTM Yöntemi ile Sahte Haber Tespiti \n",
    "\n",
    "1. [Keşifsel Veri Analizi :](#1)\n",
    "    1. [Görselleştirme](#2)\n",
    "1. [Veri Ön İşleme :](#3)\n",
    "    1. [Özel Karakterlerin Temizlenmesi](#4)\n",
    "    1. [Tokenization](#5)\n",
    "    1. [Lemmatize](#6)\n",
    "    1. [Veri Setinden Gürültülerin Silinmesi](#7)\n",
    "    \n",
    "\n",
    "1. [Veri Setinin Hazırlanması](#8)\n",
    "1. [OneHot Encoding](#9)\n",
    "1. [Eğitim ve Test Veri Setinin Ayrılması Ve Modelin Uygulanması](#10)\n",
    "1. [Submit](#11)\n",
    "    \n",
    "    \n",
    "    "
   ]
  },
  {
   "cell_type": "code",
   "execution_count": 1,
   "metadata": {
    "_cell_guid": "b1076dfc-b9ad-4769-8c92-a6c4dae69d19",
    "_uuid": "8f2839f25d086af736a60e9eeb907d3b93b6e0e5",
    "execution": {
     "iopub.execute_input": "2020-11-18T22:22:22.299587Z",
     "iopub.status.busy": "2020-11-18T22:22:22.298710Z",
     "iopub.status.idle": "2020-11-18T22:22:22.304486Z",
     "shell.execute_reply": "2020-11-18T22:22:22.303420Z"
    },
    "papermill": {
     "duration": 0.057001,
     "end_time": "2020-11-18T22:22:22.304652",
     "exception": false,
     "start_time": "2020-11-18T22:22:22.247651",
     "status": "completed"
    },
    "tags": []
   },
   "outputs": [
    {
     "name": "stdout",
     "output_type": "stream",
     "text": [
      "/kaggle/input/fake-news/train.csv\n",
      "/kaggle/input/fake-news/submit.csv\n",
      "/kaggle/input/fake-news/test.csv\n"
     ]
    }
   ],
   "source": [
    "# This Python 3 environment comes with many helpful analytics libraries installed\n",
    "# It is defined by the kaggle/python Docker image: https://github.com/kaggle/docker-python\n",
    "# For example, here's several helpful packages to load\n",
    "\n",
    "import numpy as np # linear algebra\n",
    "import pandas as pd # data processing, CSV file I/O (e.g. pd.read_csv)\n",
    "\n",
    "# Input data files are available in the read-only \"../input/\" directory\n",
    "# For example, running this (by clicking run or pressing Shift+Enter) will list all files under the input directory\n",
    "\n",
    "import os\n",
    "for dirname, _, filenames in os.walk('/kaggle/input'):\n",
    "    for filename in filenames:\n",
    "        print(os.path.join(dirname, filename))\n",
    "\n",
    "# You can write up to 20GB to the current directory (/kaggle/working/) that gets preserved as output when you create a version using \"Save & Run All\" \n",
    "# You can also write temporary files to /kaggle/temp/, but they won't be saved outside of the current session"
   ]
  },
  {
   "cell_type": "code",
   "execution_count": 2,
   "metadata": {
    "_cell_guid": "79c7e3d0-c299-4dcb-8224-4455121ee9b0",
    "_uuid": "d629ff2d2480ee46fbb7e2d37f6b5fab8052498a",
    "execution": {
     "iopub.execute_input": "2020-11-18T22:22:22.401720Z",
     "iopub.status.busy": "2020-11-18T22:22:22.400884Z",
     "iopub.status.idle": "2020-11-18T22:22:24.183288Z",
     "shell.execute_reply": "2020-11-18T22:22:24.182499Z"
    },
    "papermill": {
     "duration": 1.833196,
     "end_time": "2020-11-18T22:22:24.183478",
     "exception": false,
     "start_time": "2020-11-18T22:22:22.350282",
     "status": "completed"
    },
    "tags": []
   },
   "outputs": [
    {
     "data": {
      "text/html": [
       "<div>\n",
       "<style scoped>\n",
       "    .dataframe tbody tr th:only-of-type {\n",
       "        vertical-align: middle;\n",
       "    }\n",
       "\n",
       "    .dataframe tbody tr th {\n",
       "        vertical-align: top;\n",
       "    }\n",
       "\n",
       "    .dataframe thead th {\n",
       "        text-align: right;\n",
       "    }\n",
       "</style>\n",
       "<table border=\"1\" class=\"dataframe\">\n",
       "  <thead>\n",
       "    <tr style=\"text-align: right;\">\n",
       "      <th></th>\n",
       "      <th>id</th>\n",
       "      <th>title</th>\n",
       "      <th>author</th>\n",
       "      <th>text</th>\n",
       "      <th>label</th>\n",
       "    </tr>\n",
       "  </thead>\n",
       "  <tbody>\n",
       "    <tr>\n",
       "      <th>0</th>\n",
       "      <td>0</td>\n",
       "      <td>House Dem Aide: We Didn’t Even See Comey’s Let...</td>\n",
       "      <td>Darrell Lucus</td>\n",
       "      <td>House Dem Aide: We Didn’t Even See Comey’s Let...</td>\n",
       "      <td>1</td>\n",
       "    </tr>\n",
       "    <tr>\n",
       "      <th>1</th>\n",
       "      <td>1</td>\n",
       "      <td>FLYNN: Hillary Clinton, Big Woman on Campus - ...</td>\n",
       "      <td>Daniel J. Flynn</td>\n",
       "      <td>Ever get the feeling your life circles the rou...</td>\n",
       "      <td>0</td>\n",
       "    </tr>\n",
       "    <tr>\n",
       "      <th>2</th>\n",
       "      <td>2</td>\n",
       "      <td>Why the Truth Might Get You Fired</td>\n",
       "      <td>Consortiumnews.com</td>\n",
       "      <td>Why the Truth Might Get You Fired October 29, ...</td>\n",
       "      <td>1</td>\n",
       "    </tr>\n",
       "    <tr>\n",
       "      <th>3</th>\n",
       "      <td>3</td>\n",
       "      <td>15 Civilians Killed In Single US Airstrike Hav...</td>\n",
       "      <td>Jessica Purkiss</td>\n",
       "      <td>Videos 15 Civilians Killed In Single US Airstr...</td>\n",
       "      <td>1</td>\n",
       "    </tr>\n",
       "    <tr>\n",
       "      <th>4</th>\n",
       "      <td>4</td>\n",
       "      <td>Iranian woman jailed for fictional unpublished...</td>\n",
       "      <td>Howard Portnoy</td>\n",
       "      <td>Print \\nAn Iranian woman has been sentenced to...</td>\n",
       "      <td>1</td>\n",
       "    </tr>\n",
       "  </tbody>\n",
       "</table>\n",
       "</div>"
      ],
      "text/plain": [
       "   id                                              title              author  \\\n",
       "0   0  House Dem Aide: We Didn’t Even See Comey’s Let...       Darrell Lucus   \n",
       "1   1  FLYNN: Hillary Clinton, Big Woman on Campus - ...     Daniel J. Flynn   \n",
       "2   2                  Why the Truth Might Get You Fired  Consortiumnews.com   \n",
       "3   3  15 Civilians Killed In Single US Airstrike Hav...     Jessica Purkiss   \n",
       "4   4  Iranian woman jailed for fictional unpublished...      Howard Portnoy   \n",
       "\n",
       "                                                text  label  \n",
       "0  House Dem Aide: We Didn’t Even See Comey’s Let...      1  \n",
       "1  Ever get the feeling your life circles the rou...      0  \n",
       "2  Why the Truth Might Get You Fired October 29, ...      1  \n",
       "3  Videos 15 Civilians Killed In Single US Airstr...      1  \n",
       "4  Print \\nAn Iranian woman has been sentenced to...      1  "
      ]
     },
     "execution_count": 2,
     "metadata": {},
     "output_type": "execute_result"
    }
   ],
   "source": [
    "train = pd.read_csv(\"/kaggle/input/fake-news/train.csv\")\n",
    "test  = pd.read_csv (\"/kaggle/input/fake-news/test.csv\")\n",
    "submit= pd.read_csv(\"/kaggle/input/fake-news/submit.csv\")\n",
    "\n",
    "train.head()"
   ]
  },
  {
   "cell_type": "markdown",
   "metadata": {
    "papermill": {
     "duration": 0.0434,
     "end_time": "2020-11-18T22:22:24.273581",
     "exception": false,
     "start_time": "2020-11-18T22:22:24.230181",
     "status": "completed"
    },
    "tags": []
   },
   "source": [
    "<a id=\"1\"></a> <br>\n",
    "# Keşifsel Veri Analizi"
   ]
  },
  {
   "cell_type": "code",
   "execution_count": 3,
   "metadata": {
    "execution": {
     "iopub.execute_input": "2020-11-18T22:22:24.366867Z",
     "iopub.status.busy": "2020-11-18T22:22:24.366069Z",
     "iopub.status.idle": "2020-11-18T22:22:24.369145Z",
     "shell.execute_reply": "2020-11-18T22:22:24.369720Z"
    },
    "papermill": {
     "duration": 0.052673,
     "end_time": "2020-11-18T22:22:24.369878",
     "exception": false,
     "start_time": "2020-11-18T22:22:24.317205",
     "status": "completed"
    },
    "tags": []
   },
   "outputs": [
    {
     "name": "stdout",
     "output_type": "stream",
     "text": [
      "Train Shape : (20800, 5)\n",
      "Test Shape : (5200, 4)\n",
      "Submit Shape : (5200, 2)\n"
     ]
    }
   ],
   "source": [
    "# Veri setlerimizin boyutları ; \n",
    "print(f\"Train Shape : {train.shape}\")\n",
    "print(f\"Test Shape : {test.shape}\")\n",
    "print(f\"Submit Shape : {submit.shape}\")"
   ]
  },
  {
   "cell_type": "code",
   "execution_count": 4,
   "metadata": {
    "execution": {
     "iopub.execute_input": "2020-11-18T22:22:24.474738Z",
     "iopub.status.busy": "2020-11-18T22:22:24.473933Z",
     "iopub.status.idle": "2020-11-18T22:22:24.487423Z",
     "shell.execute_reply": "2020-11-18T22:22:24.486779Z"
    },
    "papermill": {
     "duration": 0.072855,
     "end_time": "2020-11-18T22:22:24.487546",
     "exception": false,
     "start_time": "2020-11-18T22:22:24.414691",
     "status": "completed"
    },
    "tags": []
   },
   "outputs": [
    {
     "name": "stdout",
     "output_type": "stream",
     "text": [
      "<class 'pandas.core.frame.DataFrame'>\n",
      "RangeIndex: 20800 entries, 0 to 20799\n",
      "Data columns (total 5 columns):\n",
      " #   Column  Non-Null Count  Dtype \n",
      "---  ------  --------------  ----- \n",
      " 0   id      20800 non-null  int64 \n",
      " 1   title   20242 non-null  object\n",
      " 2   author  18843 non-null  object\n",
      " 3   text    20761 non-null  object\n",
      " 4   label   20800 non-null  int64 \n",
      "dtypes: int64(2), object(3)\n",
      "memory usage: 812.6+ KB\n"
     ]
    }
   ],
   "source": [
    "train.info()\n"
   ]
  },
  {
   "cell_type": "code",
   "execution_count": 5,
   "metadata": {
    "execution": {
     "iopub.execute_input": "2020-11-18T22:22:24.592323Z",
     "iopub.status.busy": "2020-11-18T22:22:24.591248Z",
     "iopub.status.idle": "2020-11-18T22:22:24.598673Z",
     "shell.execute_reply": "2020-11-18T22:22:24.599214Z"
    },
    "papermill": {
     "duration": 0.066985,
     "end_time": "2020-11-18T22:22:24.599398",
     "exception": false,
     "start_time": "2020-11-18T22:22:24.532413",
     "status": "completed"
    },
    "tags": []
   },
   "outputs": [
    {
     "data": {
      "text/plain": [
       "id           0\n",
       "title      558\n",
       "author    1957\n",
       "text        39\n",
       "label        0\n",
       "dtype: int64"
      ]
     },
     "execution_count": 5,
     "metadata": {},
     "output_type": "execute_result"
    }
   ],
   "source": [
    "train.isnull().sum()"
   ]
  },
  {
   "cell_type": "code",
   "execution_count": 6,
   "metadata": {
    "execution": {
     "iopub.execute_input": "2020-11-18T22:22:24.701822Z",
     "iopub.status.busy": "2020-11-18T22:22:24.700742Z",
     "iopub.status.idle": "2020-11-18T22:22:24.705054Z",
     "shell.execute_reply": "2020-11-18T22:22:24.704314Z"
    },
    "papermill": {
     "duration": 0.059439,
     "end_time": "2020-11-18T22:22:24.705180",
     "exception": false,
     "start_time": "2020-11-18T22:22:24.645741",
     "status": "completed"
    },
    "tags": []
   },
   "outputs": [
    {
     "data": {
      "text/plain": [
       "object    3\n",
       "int64     2\n",
       "dtype: int64"
      ]
     },
     "execution_count": 6,
     "metadata": {},
     "output_type": "execute_result"
    }
   ],
   "source": [
    "train.dtypes.value_counts()"
   ]
  },
  {
   "cell_type": "markdown",
   "metadata": {
    "papermill": {
     "duration": 0.045998,
     "end_time": "2020-11-18T22:22:24.797492",
     "exception": false,
     "start_time": "2020-11-18T22:22:24.751494",
     "status": "completed"
    },
    "tags": []
   },
   "source": [
    "<a id=\"2\"></a> <br>\n",
    "\n",
    "## Görselleştirme"
   ]
  },
  {
   "cell_type": "code",
   "execution_count": 7,
   "metadata": {
    "execution": {
     "iopub.execute_input": "2020-11-18T22:22:24.896890Z",
     "iopub.status.busy": "2020-11-18T22:22:24.896073Z",
     "iopub.status.idle": "2020-11-18T22:22:25.913148Z",
     "shell.execute_reply": "2020-11-18T22:22:25.912291Z"
    },
    "papermill": {
     "duration": 1.069058,
     "end_time": "2020-11-18T22:22:25.913286",
     "exception": false,
     "start_time": "2020-11-18T22:22:24.844228",
     "status": "completed"
    },
    "tags": []
   },
   "outputs": [],
   "source": [
    "import seaborn as sns\n",
    "import matplotlib.pyplot as plt"
   ]
  },
  {
   "cell_type": "code",
   "execution_count": 8,
   "metadata": {
    "execution": {
     "iopub.execute_input": "2020-11-18T22:22:26.016934Z",
     "iopub.status.busy": "2020-11-18T22:22:26.016189Z",
     "iopub.status.idle": "2020-11-18T22:22:26.159108Z",
     "shell.execute_reply": "2020-11-18T22:22:26.159703Z"
    },
    "papermill": {
     "duration": 0.199752,
     "end_time": "2020-11-18T22:22:26.159866",
     "exception": false,
     "start_time": "2020-11-18T22:22:25.960114",
     "status": "completed"
    },
    "tags": []
   },
   "outputs": [
    {
     "data": {
      "image/png": "[encoded data removed]",
      "text/plain": [
       "<Figure size 648x648 with 1 Axes>"
      ]
     },
     "metadata": {},
     "output_type": "display_data"
    }
   ],
   "source": [
    "plt.figure(figsize = (9,9))\n",
    "sorted_counts = train['label'].value_counts()\n",
    "plt.pie(sorted_counts, labels = sorted_counts.index, startangle = 90, counterclock = False, wedgeprops = {'width' : 0.6},\n",
    "       autopct='%1.1f%%', pctdistance = 0.7, textprops = {'color': 'black', 'fontsize' : 18}, shadow = True,\n",
    "        colors = sns.color_palette(\"Paired\")[7:])\n",
    "plt.text(x = -0.35, y = 0, s = 'Total Value: {}'.format(train.shape[0]))\n",
    "plt.title('Distribution of News in the Data Set', fontsize = 16);"
   ]
  },
  {
   "cell_type": "markdown",
   "metadata": {
    "papermill": {
     "duration": 0.049288,
     "end_time": "2020-11-18T22:22:26.257641",
     "exception": false,
     "start_time": "2020-11-18T22:22:26.208353",
     "status": "completed"
    },
    "tags": []
   },
   "source": [
    "<a id=\"3\"></a> <br>\n",
    "\n",
    "# Veri Önişleme"
   ]
  },
  {
   "cell_type": "code",
   "execution_count": 9,
   "metadata": {
    "execution": {
     "iopub.execute_input": "2020-11-18T22:22:26.370893Z",
     "iopub.status.busy": "2020-11-18T22:22:26.370153Z",
     "iopub.status.idle": "2020-11-18T22:22:26.397482Z",
     "shell.execute_reply": "2020-11-18T22:22:26.396691Z"
    },
    "papermill": {
     "duration": 0.091746,
     "end_time": "2020-11-18T22:22:26.397604",
     "exception": false,
     "start_time": "2020-11-18T22:22:26.305858",
     "status": "completed"
    },
    "tags": []
   },
   "outputs": [],
   "source": [
    "train.dropna(inplace=True)"
   ]
  },
  {
   "cell_type": "code",
   "execution_count": 10,
   "metadata": {
    "execution": {
     "iopub.execute_input": "2020-11-18T22:22:26.499936Z",
     "iopub.status.busy": "2020-11-18T22:22:26.499098Z",
     "iopub.status.idle": "2020-11-18T22:22:26.502765Z",
     "shell.execute_reply": "2020-11-18T22:22:26.502017Z"
    },
    "papermill": {
     "duration": 0.057237,
     "end_time": "2020-11-18T22:22:26.502890",
     "exception": false,
     "start_time": "2020-11-18T22:22:26.445653",
     "status": "completed"
    },
    "tags": []
   },
   "outputs": [],
   "source": [
    "train.reset_index(inplace=True)"
   ]
  },
  {
   "cell_type": "code",
   "execution_count": 11,
   "metadata": {
    "execution": {
     "iopub.execute_input": "2020-11-18T22:22:26.610041Z",
     "iopub.status.busy": "2020-11-18T22:22:26.608140Z",
     "iopub.status.idle": "2020-11-18T22:22:26.614422Z",
     "shell.execute_reply": "2020-11-18T22:22:26.613671Z"
    },
    "papermill": {
     "duration": 0.063042,
     "end_time": "2020-11-18T22:22:26.614548",
     "exception": false,
     "start_time": "2020-11-18T22:22:26.551506",
     "status": "completed"
    },
    "tags": []
   },
   "outputs": [
    {
     "data": {
      "text/plain": [
       "id          0\n",
       "title     122\n",
       "author    503\n",
       "text        7\n",
       "dtype: int64"
      ]
     },
     "execution_count": 11,
     "metadata": {},
     "output_type": "execute_result"
    }
   ],
   "source": [
    "test.isnull().sum()"
   ]
  },
  {
   "cell_type": "code",
   "execution_count": 12,
   "metadata": {
    "execution": {
     "iopub.execute_input": "2020-11-18T22:22:26.723225Z",
     "iopub.status.busy": "2020-11-18T22:22:26.722173Z",
     "iopub.status.idle": "2020-11-18T22:22:26.725146Z",
     "shell.execute_reply": "2020-11-18T22:22:26.725666Z"
    },
    "papermill": {
     "duration": 0.060826,
     "end_time": "2020-11-18T22:22:26.725831",
     "exception": false,
     "start_time": "2020-11-18T22:22:26.665005",
     "status": "completed"
    },
    "tags": []
   },
   "outputs": [],
   "source": [
    "test['text'].fillna('TEST',inplace=True)\n"
   ]
  },
  {
   "cell_type": "code",
   "execution_count": 13,
   "metadata": {
    "execution": {
     "iopub.execute_input": "2020-11-18T22:22:26.834277Z",
     "iopub.status.busy": "2020-11-18T22:22:26.833196Z",
     "iopub.status.idle": "2020-11-18T22:22:26.837911Z",
     "shell.execute_reply": "2020-11-18T22:22:26.837292Z"
    },
    "papermill": {
     "duration": 0.063257,
     "end_time": "2020-11-18T22:22:26.838051",
     "exception": false,
     "start_time": "2020-11-18T22:22:26.774794",
     "status": "completed"
    },
    "tags": []
   },
   "outputs": [
    {
     "data": {
      "text/plain": [
       "0"
      ]
     },
     "execution_count": 13,
     "metadata": {},
     "output_type": "execute_result"
    }
   ],
   "source": [
    "test.text.isnull().sum()"
   ]
  },
  {
   "cell_type": "code",
   "execution_count": 14,
   "metadata": {
    "execution": {
     "iopub.execute_input": "2020-11-18T22:22:26.944809Z",
     "iopub.status.busy": "2020-11-18T22:22:26.943999Z",
     "iopub.status.idle": "2020-11-18T22:22:27.788745Z",
     "shell.execute_reply": "2020-11-18T22:22:27.787904Z"
    },
    "papermill": {
     "duration": 0.90022,
     "end_time": "2020-11-18T22:22:27.788875",
     "exception": false,
     "start_time": "2020-11-18T22:22:26.888655",
     "status": "completed"
    },
    "tags": []
   },
   "outputs": [],
   "source": [
    "import string \n",
    "import nltk\n",
    "from nltk.corpus import stopwords\n",
    "from nltk.stem import WordNetLemmatizer"
   ]
  },
  {
   "cell_type": "markdown",
   "metadata": {
    "papermill": {
     "duration": 0.050029,
     "end_time": "2020-11-18T22:22:27.889493",
     "exception": false,
     "start_time": "2020-11-18T22:22:27.839464",
     "status": "completed"
    },
    "tags": []
   },
   "source": [
    "<a id=\"4\"></a> <br>\n",
    "\n",
    "# Özel Karakterlerin Temizlenmesi"
   ]
  },
  {
   "cell_type": "code",
   "execution_count": 15,
   "metadata": {
    "execution": {
     "iopub.execute_input": "2020-11-18T22:22:28.006791Z",
     "iopub.status.busy": "2020-11-18T22:22:28.003066Z",
     "iopub.status.idle": "2020-11-18T22:22:43.944496Z",
     "shell.execute_reply": "2020-11-18T22:22:43.945224Z"
    },
    "papermill": {
     "duration": 16.006025,
     "end_time": "2020-11-18T22:22:43.945395",
     "exception": false,
     "start_time": "2020-11-18T22:22:27.939370",
     "status": "completed"
    },
    "tags": []
   },
   "outputs": [],
   "source": [
    "def ozel_karakter (text):\n",
    "    punctation = string.punctuation\n",
    "    return text.translate(str.maketrans(\"\",\"\",punctation))\n",
    "\n",
    "\n",
    "train[\"text\"] = train[\"text\"].apply(lambda x: ozel_karakter(x))\n",
    "train[\"text\"] = train[\"text\"].str.lower()\n",
    "train[\"text\"] = train[\"text\"].str.split()\n",
    "# Test veri setine uygulanması\n",
    "test[\"text\"] = test[\"text\"].apply(lambda x: ozel_karakter(x))\n",
    "test[\"text\"] = test[\"text\"].str.lower()\n",
    "test[\"text\"] = test[\"text\"].str.split()"
   ]
  },
  {
   "cell_type": "markdown",
   "metadata": {
    "papermill": {
     "duration": 0.049977,
     "end_time": "2020-11-18T22:22:44.045587",
     "exception": false,
     "start_time": "2020-11-18T22:22:43.995610",
     "status": "completed"
    },
    "tags": []
   },
   "source": [
    "<a id=\"5\"></a> <br>\n",
    "\n",
    "# Tokenization"
   ]
  },
  {
   "cell_type": "code",
   "execution_count": 16,
   "metadata": {
    "execution": {
     "iopub.execute_input": "2020-11-18T22:22:44.155618Z",
     "iopub.status.busy": "2020-11-18T22:22:44.154724Z",
     "iopub.status.idle": "2020-11-18T22:22:51.659706Z",
     "shell.execute_reply": "2020-11-18T22:22:51.659032Z"
    },
    "papermill": {
     "duration": 7.564167,
     "end_time": "2020-11-18T22:22:51.659832",
     "exception": false,
     "start_time": "2020-11-18T22:22:44.095665",
     "status": "completed"
    },
    "tags": []
   },
   "outputs": [],
   "source": [
    "def stop_words_temizle (text):\n",
    "    words = set(stopwords.words(\"english\"))\n",
    "    return [i for i in text if i not in words]\n",
    "\n",
    "train[\"text\"] = train[\"text\"].apply(lambda x : stop_words_temizle(x))\n",
    "test[\"text\"] = test[\"text\"].apply(lambda x : stop_words_temizle(x))"
   ]
  },
  {
   "cell_type": "markdown",
   "metadata": {
    "papermill": {
     "duration": 0.050084,
     "end_time": "2020-11-18T22:22:51.761406",
     "exception": false,
     "start_time": "2020-11-18T22:22:51.711322",
     "status": "completed"
    },
    "tags": []
   },
   "source": [
    "<a id=\"6\"></a> <br>\n",
    "\n",
    "# Lemmatize"
   ]
  },
  {
   "cell_type": "code",
   "execution_count": 17,
   "metadata": {
    "execution": {
     "iopub.execute_input": "2020-11-18T22:22:51.872450Z",
     "iopub.status.busy": "2020-11-18T22:22:51.871625Z",
     "iopub.status.idle": "2020-11-18T22:24:17.484757Z",
     "shell.execute_reply": "2020-11-18T22:24:17.484120Z"
    },
    "papermill": {
     "duration": 85.672047,
     "end_time": "2020-11-18T22:24:17.484912",
     "exception": false,
     "start_time": "2020-11-18T22:22:51.812865",
     "status": "completed"
    },
    "tags": []
   },
   "outputs": [],
   "source": [
    "def lemmatizasyon (text):\n",
    "    lemma = WordNetLemmatizer()\n",
    "    return [lemma.lemmatize(word= i , pos=\"v\") for i in text]\n",
    "\n",
    "train[\"text\"] = train[\"text\"].apply(lambda x: lemmatizasyon(x))\n",
    "test[\"text\"] = test[\"text\"].apply(lambda x: lemmatizasyon(x))"
   ]
  },
  {
   "cell_type": "markdown",
   "metadata": {
    "papermill": {
     "duration": 0.050344,
     "end_time": "2020-11-18T22:24:17.586160",
     "exception": false,
     "start_time": "2020-11-18T22:24:17.535816",
     "status": "completed"
    },
    "tags": []
   },
   "source": [
    "<a id=\"7\"></a> <br>\n",
    "\n",
    "# Veri Setinden Gürültülerin Silinmesi"
   ]
  },
  {
   "cell_type": "code",
   "execution_count": 18,
   "metadata": {
    "execution": {
     "iopub.execute_input": "2020-11-18T22:24:17.705611Z",
     "iopub.status.busy": "2020-11-18T22:24:17.700438Z",
     "iopub.status.idle": "2020-11-18T22:24:20.141556Z",
     "shell.execute_reply": "2020-11-18T22:24:20.140712Z"
    },
    "papermill": {
     "duration": 2.504946,
     "end_time": "2020-11-18T22:24:20.141687",
     "exception": false,
     "start_time": "2020-11-18T22:24:17.636741",
     "status": "completed"
    },
    "tags": []
   },
   "outputs": [],
   "source": [
    "def gurultu_sil (text):\n",
    "    return (' '.join([w for w in text if len(w)>2]))\n",
    "\n",
    "train[\"text\"] = train[\"text\"].apply(lambda x : gurultu_sil(x))\n",
    "test[\"text\"] = test[\"text\"].apply(lambda x : gurultu_sil(x))"
   ]
  },
  {
   "cell_type": "markdown",
   "metadata": {
    "papermill": {
     "duration": 0.050019,
     "end_time": "2020-11-18T22:24:20.242472",
     "exception": false,
     "start_time": "2020-11-18T22:24:20.192453",
     "status": "completed"
    },
    "tags": []
   },
   "source": [
    "<a id=\"8\"></a> <br>\n",
    "\n",
    "# Veri Setinin Hazırlanması"
   ]
  },
  {
   "cell_type": "code",
   "execution_count": 19,
   "metadata": {
    "execution": {
     "iopub.execute_input": "2020-11-18T22:24:20.350097Z",
     "iopub.status.busy": "2020-11-18T22:24:20.349286Z",
     "iopub.status.idle": "2020-11-18T22:24:20.352874Z",
     "shell.execute_reply": "2020-11-18T22:24:20.352173Z"
    },
    "papermill": {
     "duration": 0.05919,
     "end_time": "2020-11-18T22:24:20.353015",
     "exception": false,
     "start_time": "2020-11-18T22:24:20.293825",
     "status": "completed"
    },
    "tags": []
   },
   "outputs": [],
   "source": [
    "X = train[\"text\"]\n",
    "y = train[\"label\"]"
   ]
  },
  {
   "cell_type": "code",
   "execution_count": 20,
   "metadata": {
    "execution": {
     "iopub.execute_input": "2020-11-18T22:24:20.461163Z",
     "iopub.status.busy": "2020-11-18T22:24:20.460299Z",
     "iopub.status.idle": "2020-11-18T22:24:20.464700Z",
     "shell.execute_reply": "2020-11-18T22:24:20.464074Z"
    },
    "papermill": {
     "duration": 0.060402,
     "end_time": "2020-11-18T22:24:20.464820",
     "exception": false,
     "start_time": "2020-11-18T22:24:20.404418",
     "status": "completed"
    },
    "tags": []
   },
   "outputs": [
    {
     "data": {
      "text/plain": [
       "(18285,)"
      ]
     },
     "execution_count": 20,
     "metadata": {},
     "output_type": "execute_result"
    }
   ],
   "source": [
    "X.shape"
   ]
  },
  {
   "cell_type": "code",
   "execution_count": 21,
   "metadata": {
    "execution": {
     "iopub.execute_input": "2020-11-18T22:24:20.577719Z",
     "iopub.status.busy": "2020-11-18T22:24:20.576808Z",
     "iopub.status.idle": "2020-11-18T22:24:26.710474Z",
     "shell.execute_reply": "2020-11-18T22:24:26.709548Z"
    },
    "papermill": {
     "duration": 6.193921,
     "end_time": "2020-11-18T22:24:26.710654",
     "exception": false,
     "start_time": "2020-11-18T22:24:20.516733",
     "status": "completed"
    },
    "tags": []
   },
   "outputs": [],
   "source": [
    "import tensorflow as tf\n",
    "from tensorflow.keras.layers import Embedding\n",
    "from tensorflow.keras.preprocessing.sequence import pad_sequences\n",
    "from tensorflow.keras.models import Sequential\n",
    "from tensorflow.keras.preprocessing.text import one_hot\n",
    "from tensorflow.keras.layers import LSTM\n",
    "from tensorflow.keras.layers import Dense"
   ]
  },
  {
   "cell_type": "code",
   "execution_count": 22,
   "metadata": {
    "execution": {
     "iopub.execute_input": "2020-11-18T22:24:26.892106Z",
     "iopub.status.busy": "2020-11-18T22:24:26.891038Z",
     "iopub.status.idle": "2020-11-18T22:24:26.893755Z",
     "shell.execute_reply": "2020-11-18T22:24:26.894577Z"
    },
    "papermill": {
     "duration": 0.099495,
     "end_time": "2020-11-18T22:24:26.894819",
     "exception": false,
     "start_time": "2020-11-18T22:24:26.795324",
     "status": "completed"
    },
    "tags": []
   },
   "outputs": [],
   "source": [
    "voc_size=4701"
   ]
  },
  {
   "cell_type": "code",
   "execution_count": 23,
   "metadata": {
    "execution": {
     "iopub.execute_input": "2020-11-18T22:24:27.018727Z",
     "iopub.status.busy": "2020-11-18T22:24:27.017839Z",
     "iopub.status.idle": "2020-11-18T22:24:27.023349Z",
     "shell.execute_reply": "2020-11-18T22:24:27.022562Z"
    },
    "papermill": {
     "duration": 0.067917,
     "end_time": "2020-11-18T22:24:27.023475",
     "exception": false,
     "start_time": "2020-11-18T22:24:26.955558",
     "status": "completed"
    },
    "tags": []
   },
   "outputs": [],
   "source": [
    "X=X.reset_index()"
   ]
  },
  {
   "cell_type": "code",
   "execution_count": 24,
   "metadata": {
    "execution": {
     "iopub.execute_input": "2020-11-18T22:24:27.139624Z",
     "iopub.status.busy": "2020-11-18T22:24:27.138559Z",
     "iopub.status.idle": "2020-11-18T22:24:27.142041Z",
     "shell.execute_reply": "2020-11-18T22:24:27.141399Z"
    },
    "papermill": {
     "duration": 0.064756,
     "end_time": "2020-11-18T22:24:27.142197",
     "exception": false,
     "start_time": "2020-11-18T22:24:27.077441",
     "status": "completed"
    },
    "tags": []
   },
   "outputs": [],
   "source": [
    "X=X.drop(['index'],axis=1)"
   ]
  },
  {
   "cell_type": "code",
   "execution_count": 25,
   "metadata": {
    "execution": {
     "iopub.execute_input": "2020-11-18T22:24:27.256154Z",
     "iopub.status.busy": "2020-11-18T22:24:27.254848Z",
     "iopub.status.idle": "2020-11-18T22:24:27.259252Z",
     "shell.execute_reply": "2020-11-18T22:24:27.258600Z"
    },
    "papermill": {
     "duration": 0.063572,
     "end_time": "2020-11-18T22:24:27.259382",
     "exception": false,
     "start_time": "2020-11-18T22:24:27.195810",
     "status": "completed"
    },
    "tags": []
   },
   "outputs": [],
   "source": [
    "y=y.reset_index()"
   ]
  },
  {
   "cell_type": "code",
   "execution_count": 26,
   "metadata": {
    "execution": {
     "iopub.execute_input": "2020-11-18T22:24:27.376858Z",
     "iopub.status.busy": "2020-11-18T22:24:27.375782Z",
     "iopub.status.idle": "2020-11-18T22:24:27.380963Z",
     "shell.execute_reply": "2020-11-18T22:24:27.379996Z"
    },
    "papermill": {
     "duration": 0.065926,
     "end_time": "2020-11-18T22:24:27.381131",
     "exception": false,
     "start_time": "2020-11-18T22:24:27.315205",
     "status": "completed"
    },
    "tags": []
   },
   "outputs": [],
   "source": [
    "y=y.drop(['index'],axis=1)"
   ]
  },
  {
   "cell_type": "markdown",
   "metadata": {
    "papermill": {
     "duration": 0.053728,
     "end_time": "2020-11-18T22:24:27.493807",
     "exception": false,
     "start_time": "2020-11-18T22:24:27.440079",
     "status": "completed"
    },
    "tags": []
   },
   "source": [
    "<a id=\"9\"></a> <br>\n",
    "\n",
    "# OneHot Encoding"
   ]
  },
  {
   "cell_type": "code",
   "execution_count": 27,
   "metadata": {
    "execution": {
     "iopub.execute_input": "2020-11-18T22:24:27.617617Z",
     "iopub.status.busy": "2020-11-18T22:24:27.612480Z",
     "iopub.status.idle": "2020-11-18T22:24:39.155045Z",
     "shell.execute_reply": "2020-11-18T22:24:39.154332Z"
    },
    "papermill": {
     "duration": 11.60742,
     "end_time": "2020-11-18T22:24:39.155172",
     "exception": false,
     "start_time": "2020-11-18T22:24:27.547752",
     "status": "completed"
    },
    "tags": []
   },
   "outputs": [],
   "source": [
    "onehot_repr=[one_hot(words,voc_size)for words in X[\"text\"] ]"
   ]
  },
  {
   "cell_type": "code",
   "execution_count": 28,
   "metadata": {
    "execution": {
     "iopub.execute_input": "2020-11-18T22:24:39.266251Z",
     "iopub.status.busy": "2020-11-18T22:24:39.265196Z",
     "iopub.status.idle": "2020-11-18T22:24:39.269981Z",
     "shell.execute_reply": "2020-11-18T22:24:39.269395Z"
    },
    "papermill": {
     "duration": 0.062525,
     "end_time": "2020-11-18T22:24:39.270105",
     "exception": false,
     "start_time": "2020-11-18T22:24:39.207580",
     "status": "completed"
    },
    "tags": []
   },
   "outputs": [
    {
     "data": {
      "text/plain": [
       "444"
      ]
     },
     "execution_count": 28,
     "metadata": {},
     "output_type": "execute_result"
    }
   ],
   "source": [
    "len(onehot_repr[0])"
   ]
  },
  {
   "cell_type": "code",
   "execution_count": 29,
   "metadata": {
    "execution": {
     "iopub.execute_input": "2020-11-18T22:24:39.383912Z",
     "iopub.status.busy": "2020-11-18T22:24:39.382978Z",
     "iopub.status.idle": "2020-11-18T22:24:39.387611Z",
     "shell.execute_reply": "2020-11-18T22:24:39.386979Z"
    },
    "papermill": {
     "duration": 0.062924,
     "end_time": "2020-11-18T22:24:39.387740",
     "exception": false,
     "start_time": "2020-11-18T22:24:39.324816",
     "status": "completed"
    },
    "tags": []
   },
   "outputs": [
    {
     "data": {
      "text/plain": [
       "363"
      ]
     },
     "execution_count": 29,
     "metadata": {},
     "output_type": "execute_result"
    }
   ],
   "source": [
    "len(onehot_repr[700])"
   ]
  },
  {
   "cell_type": "code",
   "execution_count": 30,
   "metadata": {
    "execution": {
     "iopub.execute_input": "2020-11-18T22:24:39.509170Z",
     "iopub.status.busy": "2020-11-18T22:24:39.508406Z",
     "iopub.status.idle": "2020-11-18T22:24:41.156639Z",
     "shell.execute_reply": "2020-11-18T22:24:41.156006Z"
    },
    "papermill": {
     "duration": 1.715322,
     "end_time": "2020-11-18T22:24:41.156770",
     "exception": false,
     "start_time": "2020-11-18T22:24:39.441448",
     "status": "completed"
    },
    "tags": []
   },
   "outputs": [
    {
     "name": "stdout",
     "output_type": "stream",
     "text": [
      "[[   0    0    0 ... 2897 3086 4464]\n",
      " [   0    0    0 ... 1652 1930 2276]\n",
      " [   0    0    0 ... 2519  592  275]\n",
      " ...\n",
      " [   0    0    0 ... 2418 3880 3209]\n",
      " [   0    0    0 ...    1 3934 1384]\n",
      " [   0    0    0 ...  167 2508 2923]]\n"
     ]
    }
   ],
   "source": [
    "sent_length=700\n",
    "\n",
    "\n",
    "embedded_docs=pad_sequences(onehot_repr,padding='pre',maxlen=sent_length)\n",
    "print(embedded_docs)"
   ]
  },
  {
   "cell_type": "code",
   "execution_count": 31,
   "metadata": {
    "execution": {
     "iopub.execute_input": "2020-11-18T22:24:41.274718Z",
     "iopub.status.busy": "2020-11-18T22:24:41.273841Z",
     "iopub.status.idle": "2020-11-18T22:24:41.799355Z",
     "shell.execute_reply": "2020-11-18T22:24:41.798566Z"
    },
    "papermill": {
     "duration": 0.588195,
     "end_time": "2020-11-18T22:24:41.799482",
     "exception": false,
     "start_time": "2020-11-18T22:24:41.211287",
     "status": "completed"
    },
    "tags": []
   },
   "outputs": [],
   "source": [
    "\n",
    "from tensorflow.keras.layers import Dropout\n",
    "\n",
    "embedding_vector_features=40\n",
    "model=Sequential()\n",
    "model.add(Embedding(voc_size,embedding_vector_features,input_length=sent_length))\n",
    "model.add(Dropout(0.3))\n",
    "model.add(LSTM(100))\n",
    "model.add(Dropout(0.3))\n",
    "model.add(Dense(1,activation='sigmoid'))\n",
    "model.compile(loss='binary_crossentropy',optimizer='adam',metrics=['accuracy'])"
   ]
  },
  {
   "cell_type": "code",
   "execution_count": 32,
   "metadata": {
    "execution": {
     "iopub.execute_input": "2020-11-18T22:24:41.915382Z",
     "iopub.status.busy": "2020-11-18T22:24:41.914503Z",
     "iopub.status.idle": "2020-11-18T22:24:41.951532Z",
     "shell.execute_reply": "2020-11-18T22:24:41.950737Z"
    },
    "papermill": {
     "duration": 0.096903,
     "end_time": "2020-11-18T22:24:41.951657",
     "exception": false,
     "start_time": "2020-11-18T22:24:41.854754",
     "status": "completed"
    },
    "tags": []
   },
   "outputs": [],
   "source": [
    "X_final=np.array(embedded_docs)\n",
    "y_final=np.array(y)"
   ]
  },
  {
   "cell_type": "code",
   "execution_count": 33,
   "metadata": {
    "execution": {
     "iopub.execute_input": "2020-11-18T22:24:42.067527Z",
     "iopub.status.busy": "2020-11-18T22:24:42.066614Z",
     "iopub.status.idle": "2020-11-18T22:24:42.071379Z",
     "shell.execute_reply": "2020-11-18T22:24:42.070601Z"
    },
    "papermill": {
     "duration": 0.06484,
     "end_time": "2020-11-18T22:24:42.071507",
     "exception": false,
     "start_time": "2020-11-18T22:24:42.006667",
     "status": "completed"
    },
    "tags": []
   },
   "outputs": [
    {
     "data": {
      "text/plain": [
       "((18285, 700), (18285, 1))"
      ]
     },
     "execution_count": 33,
     "metadata": {},
     "output_type": "execute_result"
    }
   ],
   "source": [
    "X_final.shape,y_final.shape"
   ]
  },
  {
   "cell_type": "markdown",
   "metadata": {
    "papermill": {
     "duration": 0.055611,
     "end_time": "2020-11-18T22:24:42.183090",
     "exception": false,
     "start_time": "2020-11-18T22:24:42.127479",
     "status": "completed"
    },
    "tags": []
   },
   "source": [
    "<a id=\"10\"></a> <br>\n",
    "\n",
    "# Eğitim ve Test Veri Setinin Ayrılması Ve Modelin Uygulanması"
   ]
  },
  {
   "cell_type": "code",
   "execution_count": 34,
   "metadata": {
    "execution": {
     "iopub.execute_input": "2020-11-18T22:24:42.302015Z",
     "iopub.status.busy": "2020-11-18T22:24:42.301223Z",
     "iopub.status.idle": "2020-11-18T22:24:42.334029Z",
     "shell.execute_reply": "2020-11-18T22:24:42.333381Z"
    },
    "papermill": {
     "duration": 0.095427,
     "end_time": "2020-11-18T22:24:42.334166",
     "exception": false,
     "start_time": "2020-11-18T22:24:42.238739",
     "status": "completed"
    },
    "tags": []
   },
   "outputs": [],
   "source": [
    "from sklearn.model_selection import train_test_split\n",
    "X_train, X_test, y_train, y_test = train_test_split(X_final, y_final, test_size=0.10, random_state=42)"
   ]
  },
  {
   "cell_type": "code",
   "execution_count": 35,
   "metadata": {
    "execution": {
     "iopub.execute_input": "2020-11-18T22:24:42.453249Z",
     "iopub.status.busy": "2020-11-18T22:24:42.452467Z",
     "iopub.status.idle": "2020-11-18T22:39:06.354838Z",
     "shell.execute_reply": "2020-11-18T22:39:06.354199Z"
    },
    "papermill": {
     "duration": 863.964255,
     "end_time": "2020-11-18T22:39:06.354999",
     "exception": false,
     "start_time": "2020-11-18T22:24:42.390744",
     "status": "completed"
    },
    "tags": []
   },
   "outputs": [
    {
     "name": "stdout",
     "output_type": "stream",
     "text": [
      "Epoch 1/5\n",
      "258/258 [==============================] - 168s 649ms/step - loss: 0.3733 - accuracy: 0.8360 - val_loss: 0.2920 - val_accuracy: 0.8923\n",
      "Epoch 2/5\n",
      "258/258 [==============================] - 166s 645ms/step - loss: 0.2203 - accuracy: 0.9153 - val_loss: 0.3920 - val_accuracy: 0.8059\n",
      "Epoch 3/5\n",
      "258/258 [==============================] - 175s 680ms/step - loss: 0.2350 - accuracy: 0.9056 - val_loss: 0.2493 - val_accuracy: 0.9103\n",
      "Epoch 4/5\n",
      "258/258 [==============================] - 174s 675ms/step - loss: 0.1610 - accuracy: 0.9412 - val_loss: 0.2934 - val_accuracy: 0.9027\n",
      "Epoch 5/5\n",
      "258/258 [==============================] - 174s 674ms/step - loss: 0.1304 - accuracy: 0.9542 - val_loss: 0.2404 - val_accuracy: 0.9120\n"
     ]
    },
    {
     "data": {
      "text/plain": [
       "<tensorflow.python.keras.callbacks.History at 0x7efda4212a10>"
      ]
     },
     "execution_count": 35,
     "metadata": {},
     "output_type": "execute_result"
    }
   ],
   "source": [
    "model.fit(X_train,y_train,validation_data=(X_test,y_test),epochs=5,batch_size=64)"
   ]
  },
  {
   "cell_type": "code",
   "execution_count": 36,
   "metadata": {
    "execution": {
     "iopub.execute_input": "2020-11-18T22:39:07.559351Z",
     "iopub.status.busy": "2020-11-18T22:39:07.558232Z",
     "iopub.status.idle": "2020-11-18T22:39:07.561599Z",
     "shell.execute_reply": "2020-11-18T22:39:07.560881Z"
    },
    "papermill": {
     "duration": 0.586456,
     "end_time": "2020-11-18T22:39:07.561725",
     "exception": false,
     "start_time": "2020-11-18T22:39:06.975269",
     "status": "completed"
    },
    "tags": []
   },
   "outputs": [],
   "source": [
    "test=test.drop(['title','id','author'],axis=1)"
   ]
  },
  {
   "cell_type": "code",
   "execution_count": 37,
   "metadata": {
    "execution": {
     "iopub.execute_input": "2020-11-18T22:39:08.730577Z",
     "iopub.status.busy": "2020-11-18T22:39:08.729418Z",
     "iopub.status.idle": "2020-11-18T22:39:08.734271Z",
     "shell.execute_reply": "2020-11-18T22:39:08.733518Z"
    },
    "papermill": {
     "duration": 0.595843,
     "end_time": "2020-11-18T22:39:08.734413",
     "exception": false,
     "start_time": "2020-11-18T22:39:08.138570",
     "status": "completed"
    },
    "tags": []
   },
   "outputs": [
    {
     "data": {
      "text/plain": [
       "text    0\n",
       "dtype: int64"
      ]
     },
     "execution_count": 37,
     "metadata": {},
     "output_type": "execute_result"
    }
   ],
   "source": [
    "test.isnull().sum()"
   ]
  },
  {
   "cell_type": "code",
   "execution_count": 38,
   "metadata": {
    "execution": {
     "iopub.execute_input": "2020-11-18T22:39:09.914835Z",
     "iopub.status.busy": "2020-11-18T22:39:09.909373Z",
     "iopub.status.idle": "2020-11-18T22:39:13.007918Z",
     "shell.execute_reply": "2020-11-18T22:39:13.007264Z"
    },
    "papermill": {
     "duration": 3.695023,
     "end_time": "2020-11-18T22:39:13.008070",
     "exception": false,
     "start_time": "2020-11-18T22:39:09.313047",
     "status": "completed"
    },
    "tags": []
   },
   "outputs": [],
   "source": [
    "onehot_repr_test=[one_hot(words,voc_size)for words in test[\"text\"]]"
   ]
  },
  {
   "cell_type": "code",
   "execution_count": 39,
   "metadata": {
    "execution": {
     "iopub.execute_input": "2020-11-18T22:39:14.172724Z",
     "iopub.status.busy": "2020-11-18T22:39:14.171964Z",
     "iopub.status.idle": "2020-11-18T22:39:14.623540Z",
     "shell.execute_reply": "2020-11-18T22:39:14.624441Z"
    },
    "papermill": {
     "duration": 1.039725,
     "end_time": "2020-11-18T22:39:14.624620",
     "exception": false,
     "start_time": "2020-11-18T22:39:13.584895",
     "status": "completed"
    },
    "tags": []
   },
   "outputs": [
    {
     "name": "stdout",
     "output_type": "stream",
     "text": [
      "[[ 223 3031 2534 ...  747 4566 2566]\n",
      " [   0    0    0 ... 3747 4016 3995]\n",
      " [   0    0    0 ... 1088 2229 1036]\n",
      " ...\n",
      " [   0    0    0 ... 2187 3463  141]\n",
      " [   0    0    0 ... 2888 1457 1326]\n",
      " [4476 1330 2554 ... 1058 2161 3751]]\n"
     ]
    }
   ],
   "source": [
    "sent_length=700\n",
    "\n",
    "\n",
    "embedded_docs_test=pad_sequences(onehot_repr_test,padding='pre',maxlen=sent_length)\n",
    "print(embedded_docs_test)"
   ]
  },
  {
   "cell_type": "code",
   "execution_count": 40,
   "metadata": {
    "execution": {
     "iopub.execute_input": "2020-11-18T22:39:15.780674Z",
     "iopub.status.busy": "2020-11-18T22:39:15.779874Z",
     "iopub.status.idle": "2020-11-18T22:39:15.788746Z",
     "shell.execute_reply": "2020-11-18T22:39:15.788167Z"
    },
    "papermill": {
     "duration": 0.585817,
     "end_time": "2020-11-18T22:39:15.788874",
     "exception": false,
     "start_time": "2020-11-18T22:39:15.203057",
     "status": "completed"
    },
    "tags": []
   },
   "outputs": [],
   "source": [
    "X_test=np.array(embedded_docs_test)"
   ]
  },
  {
   "cell_type": "code",
   "execution_count": 41,
   "metadata": {
    "execution": {
     "iopub.execute_input": "2020-11-18T22:39:17.003832Z",
     "iopub.status.busy": "2020-11-18T22:39:16.993123Z",
     "iopub.status.idle": "2020-11-18T22:39:41.378975Z",
     "shell.execute_reply": "2020-11-18T22:39:41.378314Z"
    },
    "papermill": {
     "duration": 24.972349,
     "end_time": "2020-11-18T22:39:41.379107",
     "exception": false,
     "start_time": "2020-11-18T22:39:16.406758",
     "status": "completed"
    },
    "tags": []
   },
   "outputs": [],
   "source": [
    "check=model.predict_classes(X_test)"
   ]
  },
  {
   "cell_type": "code",
   "execution_count": 42,
   "metadata": {
    "execution": {
     "iopub.execute_input": "2020-11-18T22:39:42.536324Z",
     "iopub.status.busy": "2020-11-18T22:39:42.535428Z",
     "iopub.status.idle": "2020-11-18T22:39:42.539677Z",
     "shell.execute_reply": "2020-11-18T22:39:42.540267Z"
    },
    "papermill": {
     "duration": 0.585037,
     "end_time": "2020-11-18T22:39:42.540435",
     "exception": false,
     "start_time": "2020-11-18T22:39:41.955398",
     "status": "completed"
    },
    "tags": []
   },
   "outputs": [
    {
     "data": {
      "text/plain": [
       "array([[0],\n",
       "       [1],\n",
       "       [1],\n",
       "       ...,\n",
       "       [0],\n",
       "       [1],\n",
       "       [0]], dtype=int32)"
      ]
     },
     "execution_count": 42,
     "metadata": {},
     "output_type": "execute_result"
    }
   ],
   "source": [
    "check"
   ]
  },
  {
   "cell_type": "code",
   "execution_count": 43,
   "metadata": {
    "execution": {
     "iopub.execute_input": "2020-11-18T22:39:43.707748Z",
     "iopub.status.busy": "2020-11-18T22:39:43.706864Z",
     "iopub.status.idle": "2020-11-18T22:39:43.710983Z",
     "shell.execute_reply": "2020-11-18T22:39:43.711575Z"
    },
    "papermill": {
     "duration": 0.589504,
     "end_time": "2020-11-18T22:39:43.711727",
     "exception": false,
     "start_time": "2020-11-18T22:39:43.122223",
     "status": "completed"
    },
    "tags": []
   },
   "outputs": [
    {
     "data": {
      "text/plain": [
       "(5200, 1)"
      ]
     },
     "execution_count": 43,
     "metadata": {},
     "output_type": "execute_result"
    }
   ],
   "source": [
    "check.shape"
   ]
  },
  {
   "cell_type": "code",
   "execution_count": 44,
   "metadata": {
    "execution": {
     "iopub.execute_input": "2020-11-18T22:39:44.880372Z",
     "iopub.status.busy": "2020-11-18T22:39:44.879433Z",
     "iopub.status.idle": "2020-11-18T22:39:44.883433Z",
     "shell.execute_reply": "2020-11-18T22:39:44.883976Z"
    },
    "papermill": {
     "duration": 0.591665,
     "end_time": "2020-11-18T22:39:44.884136",
     "exception": false,
     "start_time": "2020-11-18T22:39:44.292471",
     "status": "completed"
    },
    "tags": []
   },
   "outputs": [
    {
     "data": {
      "text/plain": [
       "(5200, 1)"
      ]
     },
     "execution_count": 44,
     "metadata": {},
     "output_type": "execute_result"
    }
   ],
   "source": [
    "test.shape\n"
   ]
  },
  {
   "cell_type": "code",
   "execution_count": 45,
   "metadata": {
    "execution": {
     "iopub.execute_input": "2020-11-18T22:39:46.053680Z",
     "iopub.status.busy": "2020-11-18T22:39:46.052786Z",
     "iopub.status.idle": "2020-11-18T22:39:46.057364Z",
     "shell.execute_reply": "2020-11-18T22:39:46.056737Z"
    },
    "papermill": {
     "duration": 0.591984,
     "end_time": "2020-11-18T22:39:46.057512",
     "exception": false,
     "start_time": "2020-11-18T22:39:45.465528",
     "status": "completed"
    },
    "tags": []
   },
   "outputs": [
    {
     "data": {
      "text/plain": [
       "numpy.ndarray"
      ]
     },
     "execution_count": 45,
     "metadata": {},
     "output_type": "execute_result"
    }
   ],
   "source": [
    "type(check)"
   ]
  },
  {
   "cell_type": "markdown",
   "metadata": {
    "papermill": {
     "duration": 0.579917,
     "end_time": "2020-11-18T22:39:47.216515",
     "exception": false,
     "start_time": "2020-11-18T22:39:46.636598",
     "status": "completed"
    },
    "tags": []
   },
   "source": [
    "<a id=\"11\"></a> <br>\n",
    "# Submit"
   ]
  },
  {
   "cell_type": "code",
   "execution_count": 46,
   "metadata": {
    "execution": {
     "iopub.execute_input": "2020-11-18T22:39:48.383111Z",
     "iopub.status.busy": "2020-11-18T22:39:48.382099Z",
     "iopub.status.idle": "2020-11-18T22:39:48.385866Z",
     "shell.execute_reply": "2020-11-18T22:39:48.385154Z"
    },
    "papermill": {
     "duration": 0.59191,
     "end_time": "2020-11-18T22:39:48.386009",
     "exception": false,
     "start_time": "2020-11-18T22:39:47.794099",
     "status": "completed"
    },
    "tags": []
   },
   "outputs": [],
   "source": [
    "label=[]\n",
    "for i in check:\n",
    "    label.append(i[0])"
   ]
  },
  {
   "cell_type": "code",
   "execution_count": 47,
   "metadata": {
    "execution": {
     "iopub.execute_input": "2020-11-18T22:39:49.555591Z",
     "iopub.status.busy": "2020-11-18T22:39:49.554733Z",
     "iopub.status.idle": "2020-11-18T22:39:49.557597Z",
     "shell.execute_reply": "2020-11-18T22:39:49.556877Z"
    },
    "papermill": {
     "duration": 0.590948,
     "end_time": "2020-11-18T22:39:49.557718",
     "exception": false,
     "start_time": "2020-11-18T22:39:48.966770",
     "status": "completed"
    },
    "tags": []
   },
   "outputs": [],
   "source": [
    "submit[\"label\"] = label"
   ]
  },
  {
   "cell_type": "code",
   "execution_count": 48,
   "metadata": {
    "execution": {
     "iopub.execute_input": "2020-11-18T22:39:50.758604Z",
     "iopub.status.busy": "2020-11-18T22:39:50.757733Z",
     "iopub.status.idle": "2020-11-18T22:39:50.762173Z",
     "shell.execute_reply": "2020-11-18T22:39:50.761520Z"
    },
    "papermill": {
     "duration": 0.623677,
     "end_time": "2020-11-18T22:39:50.762315",
     "exception": false,
     "start_time": "2020-11-18T22:39:50.138638",
     "status": "completed"
    },
    "tags": []
   },
   "outputs": [
    {
     "data": {
      "text/html": [
       "<div>\n",
       "<style scoped>\n",
       "    .dataframe tbody tr th:only-of-type {\n",
       "        vertical-align: middle;\n",
       "    }\n",
       "\n",
       "    .dataframe tbody tr th {\n",
       "        vertical-align: top;\n",
       "    }\n",
       "\n",
       "    .dataframe thead th {\n",
       "        text-align: right;\n",
       "    }\n",
       "</style>\n",
       "<table border=\"1\" class=\"dataframe\">\n",
       "  <thead>\n",
       "    <tr style=\"text-align: right;\">\n",
       "      <th></th>\n",
       "      <th>id</th>\n",
       "      <th>label</th>\n",
       "    </tr>\n",
       "  </thead>\n",
       "  <tbody>\n",
       "    <tr>\n",
       "      <th>0</th>\n",
       "      <td>20800</td>\n",
       "      <td>0</td>\n",
       "    </tr>\n",
       "    <tr>\n",
       "      <th>1</th>\n",
       "      <td>20801</td>\n",
       "      <td>1</td>\n",
       "    </tr>\n",
       "    <tr>\n",
       "      <th>2</th>\n",
       "      <td>20802</td>\n",
       "      <td>1</td>\n",
       "    </tr>\n",
       "    <tr>\n",
       "      <th>3</th>\n",
       "      <td>20803</td>\n",
       "      <td>0</td>\n",
       "    </tr>\n",
       "    <tr>\n",
       "      <th>4</th>\n",
       "      <td>20804</td>\n",
       "      <td>1</td>\n",
       "    </tr>\n",
       "  </tbody>\n",
       "</table>\n",
       "</div>"
      ],
      "text/plain": [
       "      id  label\n",
       "0  20800      0\n",
       "1  20801      1\n",
       "2  20802      1\n",
       "3  20803      0\n",
       "4  20804      1"
      ]
     },
     "execution_count": 48,
     "metadata": {},
     "output_type": "execute_result"
    }
   ],
   "source": [
    "submit.head()"
   ]
  },
  {
   "cell_type": "code",
   "execution_count": 49,
   "metadata": {
    "execution": {
     "iopub.execute_input": "2020-11-18T22:39:51.938777Z",
     "iopub.status.busy": "2020-11-18T22:39:51.937935Z",
     "iopub.status.idle": "2020-11-18T22:39:52.191007Z",
     "shell.execute_reply": "2020-11-18T22:39:52.190250Z"
    },
    "papermill": {
     "duration": 0.839709,
     "end_time": "2020-11-18T22:39:52.191131",
     "exception": false,
     "start_time": "2020-11-18T22:39:51.351422",
     "status": "completed"
    },
    "tags": []
   },
   "outputs": [
    {
     "data": {
      "text/html": [
       "<a href='submission_first.csv' target='_blank'>submission_first.csv</a><br>"
      ],
      "text/plain": [
       "/kaggle/working/submission_first.csv"
      ]
     },
     "execution_count": 49,
     "metadata": {},
     "output_type": "execute_result"
    }
   ],
   "source": [
    "submit.to_csv('submission_first.csv', index=False)\n",
    "from IPython.display import FileLink\n",
    "FileLink(r'submission_first.csv')"
   ]
  }
 ],
 "metadata": {
  "kernelspec": {
   "display_name": "Python 3",
   "language": "python",
   "name": "python3"
  },
  "language_info": {
   "codemirror_mode": {
    "name": "ipython",
    "version": 3
   },
   "file_extension": ".py",
   "mimetype": "text/x-python",
   "name": "python",
   "nbconvert_exporter": "python",
   "pygments_lexer": "ipython3",
   "version": "3.7.6"
  },
  "papermill": {
   "duration": 1056.645195,
   "end_time": "2020-11-18T22:39:53.864278",
   "environment_variables": {},
   "exception": null,
   "input_path": "__notebook__.ipynb",
   "output_path": "__notebook__.ipynb",
   "parameters": {},
   "start_time": "2020-11-18T22:22:17.219083",
   "version": "2.1.0"
  }
 },
 "nbformat": 4,
 "nbformat_minor": 4
}
